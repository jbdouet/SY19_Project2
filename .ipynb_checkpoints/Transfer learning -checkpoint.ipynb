{
 "cells": [
  {
   "cell_type": "markdown",
   "metadata": {},
   "source": [
    "## Transfer Learning"
   ]
  },
  {
   "cell_type": "code",
   "execution_count": 66,
   "metadata": {
    "collapsed": false
   },
   "outputs": [
    {
     "name": "stderr",
     "output_type": "stream",
     "text": [
      "Loading required package: lattice\n",
      "Loading required package: ggplot2\n",
      "\n",
      "Attaching package: ‘ggplot2’\n",
      "\n",
      "The following object is masked _by_ ‘.GlobalEnv’:\n",
      "\n",
      "    layer\n",
      "\n"
     ]
    }
   ],
   "source": [
    "library(keras)\n",
    "use_backend(backend = \"tensorflow\")\n",
    "use_condaenv(\"r-tensorflow\",required = TRUE )\n",
    "library(caret)"
   ]
  },
  {
   "cell_type": "code",
   "execution_count": 52,
   "metadata": {
    "collapsed": true
   },
   "outputs": [],
   "source": [
    "#### Obtention des données \n",
    "data_expressions <- read.csv(\"data/expressions_train.txt\",sep = \" \")\n",
    "\n",
    "n=nrow(data_expressions)\n",
    "ntrain=ceiling(n*2/3)\n",
    "ntst=n-ntrain\n",
    "train<-sample(1:n,ntrain)\n",
    "\n",
    "data_expressions.test<-data_expressions[-train,]\n",
    "data_expressions.train<-data_expressions[train,]\n",
    "\n",
    "X_expressions <- data_expressions[,1:4200]\n",
    "y_expressions <-data_expressions$y"
   ]
  },
  {
   "cell_type": "markdown",
   "metadata": {},
   "source": [
    "### Building model"
   ]
  },
  {
   "cell_type": "code",
   "execution_count": 54,
   "metadata": {
    "collapsed": false
   },
   "outputs": [],
   "source": [
    "# Input image dimensions\n",
    "img_rows <- 60\n",
    "img_cols <- 70\n",
    "\n",
    "X_train <- data_expressions.train[,1:4200]\n",
    "X_test <- data_expressions.test[,1:4200]\n",
    "y_train <-  data_expressions.train$y\n",
    "y_test <-  data_expressions.test$y\n",
    "\n",
    "# reshapes for dense layers\n",
    "X_train1<- array_reshape(unname(X_train), dim=c(dim(X_train)[1], dim(X_train)[2])) \n",
    "X_test1<- array_reshape(unname(X_test), dim=c(dim(X_test)[1], dim(X_test)[2])) \n",
    "# rescale\n",
    "X_train1 <- X_train / 255\n",
    "X_test1 <- X_test / 255\n",
    "\n",
    "#reshapes for cnn layers \n",
    "X_train2 <- array_reshape(unname(X_train), c(nrow(X_train), img_rows, img_cols, 1))\n",
    "X_test2 <- array_reshape(unname(X_test), c(nrow(X_test), img_rows, img_cols, 1))\n",
    "X_expressions2<- array_reshape(unname(X_expressions), c(nrow(X_expressions), img_rows, img_cols, 1))\n",
    "input_shape <- c(img_rows, img_cols, 1)\n",
    "\n",
    "# transforms labels in vectors\n",
    "y_train_cat <- to_categorical(y_train)\n",
    "y_test_cat <- to_categorical(y_test)\n",
    "\n",
    "y_train_cat2 <- y_train_cat[,2:7]\n",
    "y_test_cat2 <- y_test_cat[,2:7]\n",
    "\n",
    "#nb of classes\n",
    "num_classes=6\n"
   ]
  },
  {
   "cell_type": "code",
   "execution_count": 57,
   "metadata": {
    "collapsed": false
   },
   "outputs": [],
   "source": [
    "library(abind)\n",
    "\n",
    "X_train3<-abind(X_train2, X_train2,X_train2, along = 4)\n",
    "X_test3<-abind(X_test2, X_test2,X_test2, along = 4)\n",
    "X_expressions3<-abind(X_expressions2, X_expressions2,X_expressions2, along = 4)"
   ]
  },
  {
   "cell_type": "code",
   "execution_count": 5,
   "metadata": {
    "collapsed": false
   },
   "outputs": [
    {
     "data": {
      "text/html": [
       "<ol class=list-inline>\n",
       "\t<li>72</li>\n",
       "\t<li>4200</li>\n",
       "</ol>\n"
      ],
      "text/latex": [
       "\\begin{enumerate*}\n",
       "\\item 72\n",
       "\\item 4200\n",
       "\\end{enumerate*}\n"
      ],
      "text/markdown": [
       "1. 72\n",
       "2. 4200\n",
       "\n",
       "\n"
      ],
      "text/plain": [
       "[1]   72 4200"
      ]
     },
     "metadata": {},
     "output_type": "display_data"
    },
    {
     "data": {
      "text/html": [
       "<ol class=list-inline>\n",
       "\t<li>72</li>\n",
       "\t<li>60</li>\n",
       "\t<li>70</li>\n",
       "\t<li>1</li>\n",
       "</ol>\n"
      ],
      "text/latex": [
       "\\begin{enumerate*}\n",
       "\\item 72\n",
       "\\item 60\n",
       "\\item 70\n",
       "\\item 1\n",
       "\\end{enumerate*}\n"
      ],
      "text/markdown": [
       "1. 72\n",
       "2. 60\n",
       "3. 70\n",
       "4. 1\n",
       "\n",
       "\n"
      ],
      "text/plain": [
       "[1] 72 60 70  1"
      ]
     },
     "metadata": {},
     "output_type": "display_data"
    },
    {
     "data": {
      "text/html": [
       "<ol class=list-inline>\n",
       "\t<li>72</li>\n",
       "\t<li>60</li>\n",
       "\t<li>70</li>\n",
       "\t<li>3</li>\n",
       "</ol>\n"
      ],
      "text/latex": [
       "\\begin{enumerate*}\n",
       "\\item 72\n",
       "\\item 60\n",
       "\\item 70\n",
       "\\item 3\n",
       "\\end{enumerate*}\n"
      ],
      "text/markdown": [
       "1. 72\n",
       "2. 60\n",
       "3. 70\n",
       "4. 3\n",
       "\n",
       "\n"
      ],
      "text/plain": [
       "[1] 72 60 70  3"
      ]
     },
     "metadata": {},
     "output_type": "display_data"
    }
   ],
   "source": [
    "dim(X_train1)\n",
    "dim(X_train2)\n",
    "dim(X_train3)\n",
    "\n"
   ]
  },
  {
   "cell_type": "code",
   "execution_count": 6,
   "metadata": {
    "collapsed": true
   },
   "outputs": [],
   "source": [
    "imTest <- X_train2[1,1:60,1:70,1:1]"
   ]
  },
  {
   "cell_type": "code",
   "execution_count": 7,
   "metadata": {
    "collapsed": false
   },
   "outputs": [],
   "source": [
    "input_shape <- c(img_rows, img_cols, 3)\n",
    "#base_model <- application_inception_v3(weights = 'imagenet', include_top = FALSE)\n",
    "base_model <- application_vgg16(weights = 'imagenet', include_top = FALSE,\n",
    "                                input_shape = input_shape)\n",
    "### use vgg16 -  as inception won't converge --- \n",
    " \n",
    " "
   ]
  },
  {
   "cell_type": "code",
   "execution_count": 8,
   "metadata": {
    "collapsed": true
   },
   "outputs": [],
   "source": [
    "################### Section 3 #########################\n",
    "## add your custom layers\n",
    "predictions <- base_model$output %>% \n",
    "  layer_global_average_pooling_2d(trainable = T) %>% \n",
    "  #layer_dense(12, trainable = T) %>%\n",
    "  #layer_activation(\"relu\", trainable = T) %>%\n",
    "  layer_dropout(0.3, trainable = T) %>%\n",
    "  layer_dense(6, trainable=T) %>%    ## important to adapt to fit the 6 classes in the dataset!\n",
    "  layer_activation(\"softmax\", trainable=T)\n",
    "# this is the model we will train\n",
    "model <- keras_model(inputs = base_model$input, outputs = predictions)"
   ]
  },
  {
   "cell_type": "code",
   "execution_count": 9,
   "metadata": {
    "collapsed": true
   },
   "outputs": [],
   "source": [
    "for (layer in base_model$layers)\n",
    "  layer$trainable <- FALSE\n",
    "    \n",
    "model %>% compile(\n",
    "  loss = \"categorical_crossentropy\",\n",
    "  optimizer = optimizer_rmsprop(lr = 0.003, decay = 1e-6),  ## play with the learning rate\n",
    "  metrics = \"accuracy\"\n",
    ")"
   ]
  },
  {
   "cell_type": "code",
   "execution_count": 10,
   "metadata": {
    "collapsed": false
   },
   "outputs": [],
   "source": [
    "### Training \n",
    "hist <- model %>% fit(\n",
    "  X_train3, y_train_cat2, \n",
    "  epochs = 40, \n",
    "  validation_split = 0.2,\n",
    "\n",
    ")"
   ]
  },
  {
   "cell_type": "code",
   "execution_count": 11,
   "metadata": {
    "collapsed": false
   },
   "outputs": [
    {
     "data": {
      "text/html": [
       "<dl>\n",
       "\t<dt>$loss</dt>\n",
       "\t\t<dd>12.7646734449599</dd>\n",
       "\t<dt>$acc</dt>\n",
       "\t\t<dd>0.0833333333333333</dd>\n",
       "</dl>\n"
      ],
      "text/latex": [
       "\\begin{description}\n",
       "\\item[\\$loss] 12.7646734449599\n",
       "\\item[\\$acc] 0.0833333333333333\n",
       "\\end{description}\n"
      ],
      "text/markdown": [
       "$loss\n",
       ":   12.7646734449599\n",
       "$acc\n",
       ":   0.0833333333333333\n",
       "\n",
       "\n"
      ],
      "text/plain": [
       "$loss\n",
       "[1] 12.76467\n",
       "\n",
       "$acc\n",
       "[1] 0.08333333\n"
      ]
     },
     "metadata": {},
     "output_type": "display_data"
    }
   ],
   "source": [
    "model %>% evaluate(X_test3, y_test_cat2)"
   ]
  },
  {
   "cell_type": "code",
   "execution_count": 12,
   "metadata": {
    "collapsed": false
   },
   "outputs": [],
   "source": [
    "predictions <- predict(model, X_test3)"
   ]
  },
  {
   "cell_type": "code",
   "execution_count": 121,
   "metadata": {
    "collapsed": false
   },
   "outputs": [
    {
     "data": {
      "text/html": [
       "<ol class=list-inline>\n",
       "\t<li>36</li>\n",
       "\t<li>6</li>\n",
       "</ol>\n"
      ],
      "text/latex": [
       "\\begin{enumerate*}\n",
       "\\item 36\n",
       "\\item 6\n",
       "\\end{enumerate*}\n"
      ],
      "text/markdown": [
       "1. 36\n",
       "2. 6\n",
       "\n",
       "\n"
      ],
      "text/plain": [
       "[1] 36  6"
      ]
     },
     "metadata": {},
     "output_type": "display_data"
    }
   ],
   "source": [
    "dim(predictions)"
   ]
  },
  {
   "cell_type": "code",
   "execution_count": 122,
   "metadata": {
    "collapsed": false,
    "scrolled": true
   },
   "outputs": [
    {
     "data": {
      "text/html": [
       "<ol class=list-inline>\n",
       "\t<li>0.999999909672454</li>\n",
       "\t<li>1.00000008796775</li>\n",
       "\t<li>0.999999999110786</li>\n",
       "\t<li>0.999999988654261</li>\n",
       "\t<li>0.999999946370678</li>\n",
       "\t<li>1.00000003137284</li>\n",
       "\t<li>1.000000029961</li>\n",
       "\t<li>1.00000001461113</li>\n",
       "\t<li>0.999999958124256</li>\n",
       "\t<li>1.0000000139498</li>\n",
       "\t<li>0.999999991832099</li>\n",
       "\t<li>0.999999970915987</li>\n",
       "\t<li>1.00000000504509</li>\n",
       "\t<li>1.00000000002279</li>\n",
       "\t<li>1.00000002841951</li>\n",
       "\t<li>1.00000000190332</li>\n",
       "\t<li>1.00000004303569</li>\n",
       "\t<li>1.00000001652022</li>\n",
       "\t<li>1.000000017405</li>\n",
       "\t<li>1.00000000731378</li>\n",
       "\t<li>1.00000001532252</li>\n",
       "\t<li>0.999999987914852</li>\n",
       "\t<li>1.00000011556895</li>\n",
       "\t<li>0.99999995379312</li>\n",
       "\t<li>0.999999931956904</li>\n",
       "\t<li>1.00000005526293</li>\n",
       "\t<li>1.00000002537855</li>\n",
       "\t<li>0.999999977685467</li>\n",
       "\t<li>1.0000000557734</li>\n",
       "\t<li>0.999999963848656</li>\n",
       "\t<li>1.00000001328253</li>\n",
       "\t<li>1.00000003531102</li>\n",
       "\t<li>1.0000000019219</li>\n",
       "\t<li>0.999999939921183</li>\n",
       "\t<li>1.00000005443708</li>\n",
       "\t<li>1.00000002242</li>\n",
       "</ol>\n"
      ],
      "text/latex": [
       "\\begin{enumerate*}\n",
       "\\item 0.999999909672454\n",
       "\\item 1.00000008796775\n",
       "\\item 0.999999999110786\n",
       "\\item 0.999999988654261\n",
       "\\item 0.999999946370678\n",
       "\\item 1.00000003137284\n",
       "\\item 1.000000029961\n",
       "\\item 1.00000001461113\n",
       "\\item 0.999999958124256\n",
       "\\item 1.0000000139498\n",
       "\\item 0.999999991832099\n",
       "\\item 0.999999970915987\n",
       "\\item 1.00000000504509\n",
       "\\item 1.00000000002279\n",
       "\\item 1.00000002841951\n",
       "\\item 1.00000000190332\n",
       "\\item 1.00000004303569\n",
       "\\item 1.00000001652022\n",
       "\\item 1.000000017405\n",
       "\\item 1.00000000731378\n",
       "\\item 1.00000001532252\n",
       "\\item 0.999999987914852\n",
       "\\item 1.00000011556895\n",
       "\\item 0.99999995379312\n",
       "\\item 0.999999931956904\n",
       "\\item 1.00000005526293\n",
       "\\item 1.00000002537855\n",
       "\\item 0.999999977685467\n",
       "\\item 1.0000000557734\n",
       "\\item 0.999999963848656\n",
       "\\item 1.00000001328253\n",
       "\\item 1.00000003531102\n",
       "\\item 1.0000000019219\n",
       "\\item 0.999999939921183\n",
       "\\item 1.00000005443708\n",
       "\\item 1.00000002242\n",
       "\\end{enumerate*}\n"
      ],
      "text/markdown": [
       "1. 0.999999909672454\n",
       "2. 1.00000008796775\n",
       "3. 0.999999999110786\n",
       "4. 0.999999988654261\n",
       "5. 0.999999946370678\n",
       "6. 1.00000003137284\n",
       "7. 1.000000029961\n",
       "8. 1.00000001461113\n",
       "9. 0.999999958124256\n",
       "10. 1.0000000139498\n",
       "11. 0.999999991832099\n",
       "12. 0.999999970915987\n",
       "13. 1.00000000504509\n",
       "14. 1.00000000002279\n",
       "15. 1.00000002841951\n",
       "16. 1.00000000190332\n",
       "17. 1.00000004303569\n",
       "18. 1.00000001652022\n",
       "19. 1.000000017405\n",
       "20. 1.00000000731378\n",
       "21. 1.00000001532252\n",
       "22. 0.999999987914852\n",
       "23. 1.00000011556895\n",
       "24. 0.99999995379312\n",
       "25. 0.999999931956904\n",
       "26. 1.00000005526293\n",
       "27. 1.00000002537855\n",
       "28. 0.999999977685467\n",
       "29. 1.0000000557734\n",
       "30. 0.999999963848656\n",
       "31. 1.00000001328253\n",
       "32. 1.00000003531102\n",
       "33. 1.0000000019219\n",
       "34. 0.999999939921183\n",
       "35. 1.00000005443708\n",
       "36. 1.00000002242\n",
       "\n",
       "\n"
      ],
      "text/plain": [
       " [1] 0.9999999 1.0000001 1.0000000 1.0000000 0.9999999 1.0000000 1.0000000\n",
       " [8] 1.0000000 1.0000000 1.0000000 1.0000000 1.0000000 1.0000000 1.0000000\n",
       "[15] 1.0000000 1.0000000 1.0000000 1.0000000 1.0000000 1.0000000 1.0000000\n",
       "[22] 1.0000000 1.0000001 1.0000000 0.9999999 1.0000001 1.0000000 1.0000000\n",
       "[29] 1.0000001 1.0000000 1.0000000 1.0000000 1.0000000 0.9999999 1.0000001\n",
       "[36] 1.0000000"
      ]
     },
     "metadata": {},
     "output_type": "display_data"
    }
   ],
   "source": [
    "apply(predictions,1,sum)"
   ]
  },
  {
   "cell_type": "code",
   "execution_count": 123,
   "metadata": {
    "collapsed": false
   },
   "outputs": [
    {
     "data": {
      "text/html": [
       "<ol class=list-inline>\n",
       "\t<li>1</li>\n",
       "\t<li>2</li>\n",
       "\t<li>1</li>\n",
       "\t<li>1</li>\n",
       "\t<li>1</li>\n",
       "\t<li>1</li>\n",
       "\t<li>1</li>\n",
       "\t<li>5</li>\n",
       "\t<li>5</li>\n",
       "\t<li>1</li>\n",
       "\t<li>1</li>\n",
       "\t<li>1</li>\n",
       "\t<li>1</li>\n",
       "\t<li>1</li>\n",
       "\t<li>1</li>\n",
       "\t<li>1</li>\n",
       "\t<li>1</li>\n",
       "\t<li>1</li>\n",
       "\t<li>2</li>\n",
       "\t<li>1</li>\n",
       "\t<li>2</li>\n",
       "\t<li>6</li>\n",
       "\t<li>2</li>\n",
       "\t<li>5</li>\n",
       "\t<li>1</li>\n",
       "\t<li>1</li>\n",
       "\t<li>1</li>\n",
       "\t<li>1</li>\n",
       "\t<li>6</li>\n",
       "\t<li>1</li>\n",
       "\t<li>1</li>\n",
       "\t<li>5</li>\n",
       "\t<li>5</li>\n",
       "\t<li>5</li>\n",
       "\t<li>5</li>\n",
       "\t<li>3</li>\n",
       "</ol>\n"
      ],
      "text/latex": [
       "\\begin{enumerate*}\n",
       "\\item 1\n",
       "\\item 2\n",
       "\\item 1\n",
       "\\item 1\n",
       "\\item 1\n",
       "\\item 1\n",
       "\\item 1\n",
       "\\item 5\n",
       "\\item 5\n",
       "\\item 1\n",
       "\\item 1\n",
       "\\item 1\n",
       "\\item 1\n",
       "\\item 1\n",
       "\\item 1\n",
       "\\item 1\n",
       "\\item 1\n",
       "\\item 1\n",
       "\\item 2\n",
       "\\item 1\n",
       "\\item 2\n",
       "\\item 6\n",
       "\\item 2\n",
       "\\item 5\n",
       "\\item 1\n",
       "\\item 1\n",
       "\\item 1\n",
       "\\item 1\n",
       "\\item 6\n",
       "\\item 1\n",
       "\\item 1\n",
       "\\item 5\n",
       "\\item 5\n",
       "\\item 5\n",
       "\\item 5\n",
       "\\item 3\n",
       "\\end{enumerate*}\n"
      ],
      "text/markdown": [
       "1. 1\n",
       "2. 2\n",
       "3. 1\n",
       "4. 1\n",
       "5. 1\n",
       "6. 1\n",
       "7. 1\n",
       "8. 5\n",
       "9. 5\n",
       "10. 1\n",
       "11. 1\n",
       "12. 1\n",
       "13. 1\n",
       "14. 1\n",
       "15. 1\n",
       "16. 1\n",
       "17. 1\n",
       "18. 1\n",
       "19. 2\n",
       "20. 1\n",
       "21. 2\n",
       "22. 6\n",
       "23. 2\n",
       "24. 5\n",
       "25. 1\n",
       "26. 1\n",
       "27. 1\n",
       "28. 1\n",
       "29. 6\n",
       "30. 1\n",
       "31. 1\n",
       "32. 5\n",
       "33. 5\n",
       "34. 5\n",
       "35. 5\n",
       "36. 3\n",
       "\n",
       "\n"
      ],
      "text/plain": [
       " [1] 1 2 1 1 1 1 1 5 5 1 1 1 1 1 1 1 1 1 2 1 2 6 2 5 1 1 1 1 6 1 1 5 5 5 5 3"
      ]
     },
     "metadata": {},
     "output_type": "display_data"
    }
   ],
   "source": [
    "apply(predictions,1,which.max)"
   ]
  },
  {
   "cell_type": "code",
   "execution_count": 124,
   "metadata": {
    "collapsed": false
   },
   "outputs": [
    {
     "data": {},
     "metadata": {},
     "output_type": "display_data"
    },
    {
     "data": {
      "image/png": "[encoded data removed]",
      "text/plain": [
       "plot without title"
      ]
     },
     "metadata": {},
     "output_type": "display_data"
    }
   ],
   "source": [
    "plot(hist)"
   ]
  },
  {
   "cell_type": "code",
   "execution_count": null,
   "metadata": {
    "collapsed": false
   },
   "outputs": [],
   "source": []
  },
  {
   "cell_type": "markdown",
   "metadata": {},
   "source": [
    "### Feature extractor + simple model "
   ]
  },
  {
   "cell_type": "code",
   "execution_count": 71,
   "metadata": {
    "collapsed": false
   },
   "outputs": [],
   "source": [
    "feat_model<- application_vgg16(weights = 'imagenet')\n"
   ]
  },
  {
   "cell_type": "code",
   "execution_count": 72,
   "metadata": {
    "collapsed": false
   },
   "outputs": [],
   "source": [
    "x <- imagenet_preprocess_input(X_expressions3)"
   ]
  },
  {
   "cell_type": "code",
   "execution_count": 73,
   "metadata": {
    "collapsed": false
   },
   "outputs": [
    {
     "data": {
      "text/html": [
       "<ol class=list-inline>\n",
       "\t<li>108</li>\n",
       "\t<li>60</li>\n",
       "\t<li>70</li>\n",
       "\t<li>3</li>\n",
       "</ol>\n"
      ],
      "text/latex": [
       "\\begin{enumerate*}\n",
       "\\item 108\n",
       "\\item 60\n",
       "\\item 70\n",
       "\\item 3\n",
       "\\end{enumerate*}\n"
      ],
      "text/markdown": [
       "1. 108\n",
       "2. 60\n",
       "3. 70\n",
       "4. 3\n",
       "\n",
       "\n"
      ],
      "text/plain": [
       "[1] 108  60  70   3"
      ]
     },
     "metadata": {},
     "output_type": "display_data"
    }
   ],
   "source": [
    "dim(x)"
   ]
  },
  {
   "cell_type": "code",
   "execution_count": 74,
   "metadata": {
    "collapsed": false
   },
   "outputs": [
    {
     "ename": "ERROR",
     "evalue": "Error in py_call_impl(callable, dots$args, dots$keywords): ValueError: Error when checking : expected input_6 to have shape (None, 224, 224, 3) but got array with shape (108, 60, 70, 3)\n\nDetailed traceback: \n  File \"/Users/Jean-Baptiste/anaconda/envs/r-tensorflow/lib/python2.7/site-packages/keras/engine/training.py\", line 1772, in predict\n    check_batch_axis=False)\n  File \"/Users/Jean-Baptiste/anaconda/envs/r-tensorflow/lib/python2.7/site-packages/keras/engine/training.py\", line 153, in _standardize_input_data\n    str(array.shape))\n\n",
     "output_type": "error",
     "traceback": [
      "Error in py_call_impl(callable, dots$args, dots$keywords): ValueError: Error when checking : expected input_6 to have shape (None, 224, 224, 3) but got array with shape (108, 60, 70, 3)\n\nDetailed traceback: \n  File \"/Users/Jean-Baptiste/anaconda/envs/r-tensorflow/lib/python2.7/site-packages/keras/engine/training.py\", line 1772, in predict\n    check_batch_axis=False)\n  File \"/Users/Jean-Baptiste/anaconda/envs/r-tensorflow/lib/python2.7/site-packages/keras/engine/training.py\", line 153, in _standardize_input_data\n    str(array.shape))\n\nTraceback:\n",
      "1. feat_model %>% predict(x)",
      "2. withVisible(eval(quote(`_fseq`(`_lhs`)), env, env))",
      "3. eval(quote(`_fseq`(`_lhs`)), env, env)",
      "4. eval(quote(`_fseq`(`_lhs`)), env, env)",
      "5. `_fseq`(`_lhs`)",
      "6. freduce(value, `_function_list`)",
      "7. withVisible(function_list[[k]](value))",
      "8. function_list[[k]](value)",
      "9. predict(., x)",
      "10. predict(., x)",
      "11. predict.keras.engine.training.Model(., x)",
      "12. do.call(object$predict, args)",
      "13. (structure(function (...) \n  . {\n  .     dots <- py_resolve_dots(list(...))\n  .     result <- py_call_impl(callable, dots$args, dots$keywords)\n  .     if (convert) {\n  .         result <- py_to_r(result)\n  .         if (is.null(result)) \n  .             invisible(result)\n  .         else result\n  .     }\n  .     else {\n  .         result\n  .     }\n  . }, class = c(\"python.builtin.instancemethod\", \"python.builtin.object\"\n  . ), py_object = <environment>))(x = <environment>, batch_size = 32L, \n  .     verbose = 0L)",
      "14. py_call_impl(callable, dots$args, dots$keywords)"
     ]
    }
   ],
   "source": [
    "features <- feat_model %>% predict(x)"
   ]
  },
  {
   "cell_type": "code",
   "execution_count": 61,
   "metadata": {
    "collapsed": false
   },
   "outputs": [
    {
     "data": {
      "text/html": [
       "<ol class=list-inline>\n",
       "\t<li>108</li>\n",
       "\t<li>1</li>\n",
       "\t<li>2</li>\n",
       "\t<li>512</li>\n",
       "</ol>\n"
      ],
      "text/latex": [
       "\\begin{enumerate*}\n",
       "\\item 108\n",
       "\\item 1\n",
       "\\item 2\n",
       "\\item 512\n",
       "\\end{enumerate*}\n"
      ],
      "text/markdown": [
       "1. 108\n",
       "2. 1\n",
       "3. 2\n",
       "4. 512\n",
       "\n",
       "\n"
      ],
      "text/plain": [
       "[1] 108   1   2 512"
      ]
     },
     "metadata": {},
     "output_type": "display_data"
    }
   ],
   "source": [
    "dim(features)"
   ]
  },
  {
   "cell_type": "code",
   "execution_count": 40,
   "metadata": {
    "collapsed": false
   },
   "outputs": [
    {
     "data": {
      "text/html": [
       "<ol class=list-inline>\n",
       "\t<li>TRUE</li>\n",
       "\t<li>TRUE</li>\n",
       "\t<li>TRUE</li>\n",
       "\t<li>TRUE</li>\n",
       "\t<li>FALSE</li>\n",
       "\t<li>TRUE</li>\n",
       "\t<li>TRUE</li>\n",
       "\t<li>TRUE</li>\n",
       "\t<li>FALSE</li>\n",
       "\t<li>TRUE</li>\n",
       "\t<li>TRUE</li>\n",
       "\t<li>FALSE</li>\n",
       "\t<li>TRUE</li>\n",
       "\t<li>TRUE</li>\n",
       "\t<li>TRUE</li>\n",
       "\t<li>TRUE</li>\n",
       "\t<li>FALSE</li>\n",
       "\t<li>TRUE</li>\n",
       "\t<li>FALSE</li>\n",
       "\t<li>FALSE</li>\n",
       "\t<li>TRUE</li>\n",
       "\t<li>TRUE</li>\n",
       "\t<li>TRUE</li>\n",
       "\t<li>TRUE</li>\n",
       "\t<li>TRUE</li>\n",
       "\t<li>TRUE</li>\n",
       "\t<li>FALSE</li>\n",
       "\t<li>TRUE</li>\n",
       "\t<li>TRUE</li>\n",
       "\t<li>TRUE</li>\n",
       "\t<li>TRUE</li>\n",
       "\t<li>TRUE</li>\n",
       "\t<li>TRUE</li>\n",
       "\t<li>TRUE</li>\n",
       "\t<li>TRUE</li>\n",
       "\t<li>TRUE</li>\n",
       "\t<li>TRUE</li>\n",
       "\t<li>TRUE</li>\n",
       "\t<li>TRUE</li>\n",
       "</ol>\n"
      ],
      "text/latex": [
       "\\begin{enumerate*}\n",
       "\\item TRUE\n",
       "\\item TRUE\n",
       "\\item TRUE\n",
       "\\item TRUE\n",
       "\\item FALSE\n",
       "\\item TRUE\n",
       "\\item TRUE\n",
       "\\item TRUE\n",
       "\\item FALSE\n",
       "\\item TRUE\n",
       "\\item TRUE\n",
       "\\item FALSE\n",
       "\\item TRUE\n",
       "\\item TRUE\n",
       "\\item TRUE\n",
       "\\item TRUE\n",
       "\\item FALSE\n",
       "\\item TRUE\n",
       "\\item FALSE\n",
       "\\item FALSE\n",
       "\\item TRUE\n",
       "\\item TRUE\n",
       "\\item TRUE\n",
       "\\item TRUE\n",
       "\\item TRUE\n",
       "\\item TRUE\n",
       "\\item FALSE\n",
       "\\item TRUE\n",
       "\\item TRUE\n",
       "\\item TRUE\n",
       "\\item TRUE\n",
       "\\item TRUE\n",
       "\\item TRUE\n",
       "\\item TRUE\n",
       "\\item TRUE\n",
       "\\item TRUE\n",
       "\\item TRUE\n",
       "\\item TRUE\n",
       "\\item TRUE\n",
       "\\end{enumerate*}\n"
      ],
      "text/markdown": [
       "1. TRUE\n",
       "2. TRUE\n",
       "3. TRUE\n",
       "4. TRUE\n",
       "5. FALSE\n",
       "6. TRUE\n",
       "7. TRUE\n",
       "8. TRUE\n",
       "9. FALSE\n",
       "10. TRUE\n",
       "11. TRUE\n",
       "12. FALSE\n",
       "13. TRUE\n",
       "14. TRUE\n",
       "15. TRUE\n",
       "16. TRUE\n",
       "17. FALSE\n",
       "18. TRUE\n",
       "19. FALSE\n",
       "20. FALSE\n",
       "21. TRUE\n",
       "22. TRUE\n",
       "23. TRUE\n",
       "24. TRUE\n",
       "25. TRUE\n",
       "26. TRUE\n",
       "27. FALSE\n",
       "28. TRUE\n",
       "29. TRUE\n",
       "30. TRUE\n",
       "31. TRUE\n",
       "32. TRUE\n",
       "33. TRUE\n",
       "34. TRUE\n",
       "35. TRUE\n",
       "36. TRUE\n",
       "37. TRUE\n",
       "38. TRUE\n",
       "39. TRUE\n",
       "\n",
       "\n"
      ],
      "text/plain": [
       " [1]  TRUE  TRUE  TRUE  TRUE FALSE  TRUE  TRUE  TRUE FALSE  TRUE  TRUE FALSE\n",
       "[13]  TRUE  TRUE  TRUE  TRUE FALSE  TRUE FALSE FALSE  TRUE  TRUE  TRUE  TRUE\n",
       "[25]  TRUE  TRUE FALSE  TRUE  TRUE  TRUE  TRUE  TRUE  TRUE  TRUE  TRUE  TRUE\n",
       "[37]  TRUE  TRUE  TRUE"
      ]
     },
     "metadata": {},
     "output_type": "display_data"
    }
   ],
   "source": [
    "features[2,1,1, 2:40]=="
   ]
  },
  {
   "cell_type": "code",
   "execution_count": 62,
   "metadata": {
    "collapsed": false
   },
   "outputs": [
    {
     "data": {
      "text/html": [
       "<ol class=list-inline>\n",
       "\t<li>108</li>\n",
       "\t<li>1024</li>\n",
       "</ol>\n"
      ],
      "text/latex": [
       "\\begin{enumerate*}\n",
       "\\item 108\n",
       "\\item 1024\n",
       "\\end{enumerate*}\n"
      ],
      "text/markdown": [
       "1. 108\n",
       "2. 1024\n",
       "\n",
       "\n"
      ],
      "text/plain": [
       "[1]  108 1024"
      ]
     },
     "metadata": {},
     "output_type": "display_data"
    }
   ],
   "source": [
    "features2 <- array_reshape(features, c(dim(features)[1], (dim(features)[4])*2))\n",
    "\n",
    "dim(features2)"
   ]
  },
  {
   "cell_type": "code",
   "execution_count": 48,
   "metadata": {
    "collapsed": false
   },
   "outputs": [
    {
     "name": "stderr",
     "output_type": "stream",
     "text": [
      "Warning message in features[2, 1, 2, 1:100] == features2[2, 513:613]:\n",
      "“longer object length is not a multiple of shorter object length”"
     ]
    },
    {
     "data": {
      "text/html": [
       "<ol class=list-inline>\n",
       "\t<li>TRUE</li>\n",
       "\t<li>TRUE</li>\n",
       "\t<li>TRUE</li>\n",
       "\t<li>TRUE</li>\n",
       "\t<li>TRUE</li>\n",
       "\t<li>TRUE</li>\n",
       "\t<li>TRUE</li>\n",
       "\t<li>TRUE</li>\n",
       "\t<li>TRUE</li>\n",
       "\t<li>TRUE</li>\n",
       "\t<li>TRUE</li>\n",
       "\t<li>TRUE</li>\n",
       "\t<li>TRUE</li>\n",
       "\t<li>TRUE</li>\n",
       "\t<li>TRUE</li>\n",
       "\t<li>TRUE</li>\n",
       "\t<li>TRUE</li>\n",
       "\t<li>TRUE</li>\n",
       "\t<li>TRUE</li>\n",
       "\t<li>TRUE</li>\n",
       "\t<li>TRUE</li>\n",
       "\t<li>TRUE</li>\n",
       "\t<li>TRUE</li>\n",
       "\t<li>TRUE</li>\n",
       "\t<li>TRUE</li>\n",
       "\t<li>TRUE</li>\n",
       "\t<li>TRUE</li>\n",
       "\t<li>TRUE</li>\n",
       "\t<li>TRUE</li>\n",
       "\t<li>TRUE</li>\n",
       "\t<li>TRUE</li>\n",
       "\t<li>TRUE</li>\n",
       "\t<li>TRUE</li>\n",
       "\t<li>TRUE</li>\n",
       "\t<li>TRUE</li>\n",
       "\t<li>TRUE</li>\n",
       "\t<li>TRUE</li>\n",
       "\t<li>TRUE</li>\n",
       "\t<li>TRUE</li>\n",
       "\t<li>TRUE</li>\n",
       "\t<li>TRUE</li>\n",
       "\t<li>TRUE</li>\n",
       "\t<li>TRUE</li>\n",
       "\t<li>TRUE</li>\n",
       "\t<li>TRUE</li>\n",
       "\t<li>TRUE</li>\n",
       "\t<li>TRUE</li>\n",
       "\t<li>TRUE</li>\n",
       "\t<li>TRUE</li>\n",
       "\t<li>TRUE</li>\n",
       "\t<li>TRUE</li>\n",
       "\t<li>TRUE</li>\n",
       "\t<li>TRUE</li>\n",
       "\t<li>TRUE</li>\n",
       "\t<li>TRUE</li>\n",
       "\t<li>TRUE</li>\n",
       "\t<li>TRUE</li>\n",
       "\t<li>TRUE</li>\n",
       "\t<li>TRUE</li>\n",
       "\t<li>TRUE</li>\n",
       "\t<li>TRUE</li>\n",
       "\t<li>TRUE</li>\n",
       "\t<li>TRUE</li>\n",
       "\t<li>TRUE</li>\n",
       "\t<li>TRUE</li>\n",
       "\t<li>TRUE</li>\n",
       "\t<li>TRUE</li>\n",
       "\t<li>TRUE</li>\n",
       "\t<li>TRUE</li>\n",
       "\t<li>TRUE</li>\n",
       "\t<li>TRUE</li>\n",
       "\t<li>TRUE</li>\n",
       "\t<li>TRUE</li>\n",
       "\t<li>TRUE</li>\n",
       "\t<li>TRUE</li>\n",
       "\t<li>TRUE</li>\n",
       "\t<li>TRUE</li>\n",
       "\t<li>TRUE</li>\n",
       "\t<li>TRUE</li>\n",
       "\t<li>TRUE</li>\n",
       "\t<li>TRUE</li>\n",
       "\t<li>TRUE</li>\n",
       "\t<li>TRUE</li>\n",
       "\t<li>TRUE</li>\n",
       "\t<li>TRUE</li>\n",
       "\t<li>TRUE</li>\n",
       "\t<li>TRUE</li>\n",
       "\t<li>TRUE</li>\n",
       "\t<li>TRUE</li>\n",
       "\t<li>TRUE</li>\n",
       "\t<li>TRUE</li>\n",
       "\t<li>TRUE</li>\n",
       "\t<li>TRUE</li>\n",
       "\t<li>TRUE</li>\n",
       "\t<li>TRUE</li>\n",
       "\t<li>TRUE</li>\n",
       "\t<li>TRUE</li>\n",
       "\t<li>TRUE</li>\n",
       "\t<li>TRUE</li>\n",
       "\t<li>TRUE</li>\n",
       "\t<li>TRUE</li>\n",
       "</ol>\n"
      ],
      "text/latex": [
       "\\begin{enumerate*}\n",
       "\\item TRUE\n",
       "\\item TRUE\n",
       "\\item TRUE\n",
       "\\item TRUE\n",
       "\\item TRUE\n",
       "\\item TRUE\n",
       "\\item TRUE\n",
       "\\item TRUE\n",
       "\\item TRUE\n",
       "\\item TRUE\n",
       "\\item TRUE\n",
       "\\item TRUE\n",
       "\\item TRUE\n",
       "\\item TRUE\n",
       "\\item TRUE\n",
       "\\item TRUE\n",
       "\\item TRUE\n",
       "\\item TRUE\n",
       "\\item TRUE\n",
       "\\item TRUE\n",
       "\\item TRUE\n",
       "\\item TRUE\n",
       "\\item TRUE\n",
       "\\item TRUE\n",
       "\\item TRUE\n",
       "\\item TRUE\n",
       "\\item TRUE\n",
       "\\item TRUE\n",
       "\\item TRUE\n",
       "\\item TRUE\n",
       "\\item TRUE\n",
       "\\item TRUE\n",
       "\\item TRUE\n",
       "\\item TRUE\n",
       "\\item TRUE\n",
       "\\item TRUE\n",
       "\\item TRUE\n",
       "\\item TRUE\n",
       "\\item TRUE\n",
       "\\item TRUE\n",
       "\\item TRUE\n",
       "\\item TRUE\n",
       "\\item TRUE\n",
       "\\item TRUE\n",
       "\\item TRUE\n",
       "\\item TRUE\n",
       "\\item TRUE\n",
       "\\item TRUE\n",
       "\\item TRUE\n",
       "\\item TRUE\n",
       "\\item TRUE\n",
       "\\item TRUE\n",
       "\\item TRUE\n",
       "\\item TRUE\n",
       "\\item TRUE\n",
       "\\item TRUE\n",
       "\\item TRUE\n",
       "\\item TRUE\n",
       "\\item TRUE\n",
       "\\item TRUE\n",
       "\\item TRUE\n",
       "\\item TRUE\n",
       "\\item TRUE\n",
       "\\item TRUE\n",
       "\\item TRUE\n",
       "\\item TRUE\n",
       "\\item TRUE\n",
       "\\item TRUE\n",
       "\\item TRUE\n",
       "\\item TRUE\n",
       "\\item TRUE\n",
       "\\item TRUE\n",
       "\\item TRUE\n",
       "\\item TRUE\n",
       "\\item TRUE\n",
       "\\item TRUE\n",
       "\\item TRUE\n",
       "\\item TRUE\n",
       "\\item TRUE\n",
       "\\item TRUE\n",
       "\\item TRUE\n",
       "\\item TRUE\n",
       "\\item TRUE\n",
       "\\item TRUE\n",
       "\\item TRUE\n",
       "\\item TRUE\n",
       "\\item TRUE\n",
       "\\item TRUE\n",
       "\\item TRUE\n",
       "\\item TRUE\n",
       "\\item TRUE\n",
       "\\item TRUE\n",
       "\\item TRUE\n",
       "\\item TRUE\n",
       "\\item TRUE\n",
       "\\item TRUE\n",
       "\\item TRUE\n",
       "\\item TRUE\n",
       "\\item TRUE\n",
       "\\item TRUE\n",
       "\\item TRUE\n",
       "\\end{enumerate*}\n"
      ],
      "text/markdown": [
       "1. TRUE\n",
       "2. TRUE\n",
       "3. TRUE\n",
       "4. TRUE\n",
       "5. TRUE\n",
       "6. TRUE\n",
       "7. TRUE\n",
       "8. TRUE\n",
       "9. TRUE\n",
       "10. TRUE\n",
       "11. TRUE\n",
       "12. TRUE\n",
       "13. TRUE\n",
       "14. TRUE\n",
       "15. TRUE\n",
       "16. TRUE\n",
       "17. TRUE\n",
       "18. TRUE\n",
       "19. TRUE\n",
       "20. TRUE\n",
       "21. TRUE\n",
       "22. TRUE\n",
       "23. TRUE\n",
       "24. TRUE\n",
       "25. TRUE\n",
       "26. TRUE\n",
       "27. TRUE\n",
       "28. TRUE\n",
       "29. TRUE\n",
       "30. TRUE\n",
       "31. TRUE\n",
       "32. TRUE\n",
       "33. TRUE\n",
       "34. TRUE\n",
       "35. TRUE\n",
       "36. TRUE\n",
       "37. TRUE\n",
       "38. TRUE\n",
       "39. TRUE\n",
       "40. TRUE\n",
       "41. TRUE\n",
       "42. TRUE\n",
       "43. TRUE\n",
       "44. TRUE\n",
       "45. TRUE\n",
       "46. TRUE\n",
       "47. TRUE\n",
       "48. TRUE\n",
       "49. TRUE\n",
       "50. TRUE\n",
       "51. TRUE\n",
       "52. TRUE\n",
       "53. TRUE\n",
       "54. TRUE\n",
       "55. TRUE\n",
       "56. TRUE\n",
       "57. TRUE\n",
       "58. TRUE\n",
       "59. TRUE\n",
       "60. TRUE\n",
       "61. TRUE\n",
       "62. TRUE\n",
       "63. TRUE\n",
       "64. TRUE\n",
       "65. TRUE\n",
       "66. TRUE\n",
       "67. TRUE\n",
       "68. TRUE\n",
       "69. TRUE\n",
       "70. TRUE\n",
       "71. TRUE\n",
       "72. TRUE\n",
       "73. TRUE\n",
       "74. TRUE\n",
       "75. TRUE\n",
       "76. TRUE\n",
       "77. TRUE\n",
       "78. TRUE\n",
       "79. TRUE\n",
       "80. TRUE\n",
       "81. TRUE\n",
       "82. TRUE\n",
       "83. TRUE\n",
       "84. TRUE\n",
       "85. TRUE\n",
       "86. TRUE\n",
       "87. TRUE\n",
       "88. TRUE\n",
       "89. TRUE\n",
       "90. TRUE\n",
       "91. TRUE\n",
       "92. TRUE\n",
       "93. TRUE\n",
       "94. TRUE\n",
       "95. TRUE\n",
       "96. TRUE\n",
       "97. TRUE\n",
       "98. TRUE\n",
       "99. TRUE\n",
       "100. TRUE\n",
       "101. TRUE\n",
       "\n",
       "\n"
      ],
      "text/plain": [
       "  [1] TRUE TRUE TRUE TRUE TRUE TRUE TRUE TRUE TRUE TRUE TRUE TRUE TRUE TRUE TRUE\n",
       " [16] TRUE TRUE TRUE TRUE TRUE TRUE TRUE TRUE TRUE TRUE TRUE TRUE TRUE TRUE TRUE\n",
       " [31] TRUE TRUE TRUE TRUE TRUE TRUE TRUE TRUE TRUE TRUE TRUE TRUE TRUE TRUE TRUE\n",
       " [46] TRUE TRUE TRUE TRUE TRUE TRUE TRUE TRUE TRUE TRUE TRUE TRUE TRUE TRUE TRUE\n",
       " [61] TRUE TRUE TRUE TRUE TRUE TRUE TRUE TRUE TRUE TRUE TRUE TRUE TRUE TRUE TRUE\n",
       " [76] TRUE TRUE TRUE TRUE TRUE TRUE TRUE TRUE TRUE TRUE TRUE TRUE TRUE TRUE TRUE\n",
       " [91] TRUE TRUE TRUE TRUE TRUE TRUE TRUE TRUE TRUE TRUE TRUE"
      ]
     },
     "metadata": {},
     "output_type": "display_data"
    }
   ],
   "source": [
    "features[2,1,2,1:100]==features2[2,513:613]"
   ]
  },
  {
   "cell_type": "code",
   "execution_count": 63,
   "metadata": {
    "collapsed": false
   },
   "outputs": [],
   "source": [
    "features_preprocessed <- features2[, !apply(features2 == 0, 2, all)]\n"
   ]
  },
  {
   "cell_type": "code",
   "execution_count": 64,
   "metadata": {
    "collapsed": false
   },
   "outputs": [
    {
     "data": {
      "text/html": [
       "<ol class=list-inline>\n",
       "\t<li>108</li>\n",
       "\t<li>661</li>\n",
       "</ol>\n"
      ],
      "text/latex": [
       "\\begin{enumerate*}\n",
       "\\item 108\n",
       "\\item 661\n",
       "\\end{enumerate*}\n"
      ],
      "text/markdown": [
       "1. 108\n",
       "2. 661\n",
       "\n",
       "\n"
      ],
      "text/plain": [
       "[1] 108 661"
      ]
     },
     "metadata": {},
     "output_type": "display_data"
    }
   ],
   "source": [
    "dim(features_preprocessed)"
   ]
  },
  {
   "cell_type": "code",
   "execution_count": 65,
   "metadata": {
    "collapsed": false
   },
   "outputs": [],
   "source": [
    "new_data <-  data.frame( features_preprocessed,y=y_expressions)"
   ]
  },
  {
   "cell_type": "code",
   "execution_count": 70,
   "metadata": {
    "collapsed": false
   },
   "outputs": [
    {
     "data": {
      "text/html": [
       "<table>\n",
       "<thead><tr><th scope=col>X1</th><th scope=col>X2</th><th scope=col>X3</th><th scope=col>X4</th><th scope=col>X5</th><th scope=col>X6</th><th scope=col>X7</th><th scope=col>X8</th><th scope=col>X9</th><th scope=col>X10</th><th scope=col>⋯</th><th scope=col>X653</th><th scope=col>X654</th><th scope=col>X655</th><th scope=col>X656</th><th scope=col>X657</th><th scope=col>X658</th><th scope=col>X659</th><th scope=col>X660</th><th scope=col>X661</th><th scope=col>y</th></tr></thead>\n",
       "<tbody>\n",
       "\t<tr><td>0         </td><td>4.599882  </td><td> 9.091185 </td><td> 7.318939 </td><td>6.125261  </td><td>11.260811 </td><td>0         </td><td>43.18150  </td><td>0         </td><td> 3.713668 </td><td>⋯         </td><td>0         </td><td>0         </td><td> 0.000000 </td><td>0         </td><td> 3.252809 </td><td> 12.68390 </td><td>0.1941953 </td><td> 4.8297262</td><td>0.000000  </td><td>joy       </td></tr>\n",
       "\t<tr><td>0         </td><td>0.000000  </td><td> 0.000000 </td><td> 5.076549 </td><td>0.000000  </td><td>13.958791 </td><td>0         </td><td> 0.00000  </td><td>0         </td><td> 9.438951 </td><td>⋯         </td><td>0         </td><td>0         </td><td>10.138422 </td><td>0         </td><td>34.665600 </td><td>108.13919 </td><td>0.6529808 </td><td>18.4016819</td><td>0.000000  </td><td>surprise  </td></tr>\n",
       "\t<tr><td>0         </td><td>0.000000  </td><td> 0.000000 </td><td> 0.000000 </td><td>0.000000  </td><td> 0.000000 </td><td>0         </td><td>10.05875  </td><td>0         </td><td> 0.000000 </td><td>⋯         </td><td>0         </td><td>0         </td><td> 0.000000 </td><td>0         </td><td> 0.000000 </td><td> 10.24483 </td><td>0.2490301 </td><td> 1.9077202</td><td>2.126544  </td><td>anger     </td></tr>\n",
       "\t<tr><td>0         </td><td>0.000000  </td><td>12.830648 </td><td>51.770573 </td><td>0.000000  </td><td> 8.509871 </td><td>0         </td><td>10.14987  </td><td>0         </td><td>17.427689 </td><td>⋯         </td><td>0         </td><td>0         </td><td> 9.041702 </td><td>0         </td><td> 8.406343 </td><td> 24.51463 </td><td>0.0000000 </td><td>13.8936911</td><td>0.000000  </td><td>fear      </td></tr>\n",
       "\t<tr><td>0         </td><td>0.000000  </td><td> 0.000000 </td><td>10.870393 </td><td>0.000000  </td><td> 0.000000 </td><td>0         </td><td> 0.00000  </td><td>0         </td><td> 5.735597 </td><td>⋯         </td><td>0         </td><td>0         </td><td> 9.588039 </td><td>0         </td><td>12.457659 </td><td> 98.30520 </td><td>0.0000000 </td><td> 0.1925754</td><td>0.000000  </td><td>joy       </td></tr>\n",
       "\t<tr><td>0         </td><td>0.000000  </td><td> 0.000000 </td><td> 7.384062 </td><td>0.000000  </td><td> 0.000000 </td><td>0         </td><td> 0.00000  </td><td>0         </td><td> 2.062235 </td><td>⋯         </td><td>0         </td><td>0         </td><td> 0.000000 </td><td>0         </td><td> 9.254303 </td><td> 50.65581 </td><td>7.2976084 </td><td> 0.0000000</td><td>9.766267  </td><td>sadness   </td></tr>\n",
       "</tbody>\n",
       "</table>\n"
      ],
      "text/latex": [
       "\\begin{tabular}{r|llllllllllllllllllllllllllllllllllllllllllllllllllllllllllllllllllllllllllllllllllllllllllllllllllllllllllllllllllllllllllllllllllllllllllllllllllllllllllllllllllllllllllllllllllllllllllllllllllllllllllllllllllllllllllllllllllllllllllllllllllllllllllllllllllllllllllllllllllllllllllllllllllllllllllllllllllllllllllllllllllllllllllllllllllllllllllllllllllllllllllllllllllllllllllllllllllllllllllllllllllllllllllllllllllllllllllllllllllllllllllllllllllllllllllllllllllllllllllllllllllllllllllllllllllllllllllllllllllllllllllllllllllllllllllllllllllllllllllllllllllllllllllllllllllllllllllllllllllllllllllllllllllllllllllllllllllllllllllllllllllllllllllllllllllllll}\n",
       " X1 & X2 & X3 & X4 & X5 & X6 & X7 & X8 & X9 & X10 & ⋯ & X653 & X654 & X655 & X656 & X657 & X658 & X659 & X660 & X661 & y\\\\\n",
       "\\hline\n",
       "\t 0          & 4.599882   &  9.091185  &  7.318939  & 6.125261   & 11.260811  & 0          & 43.18150   & 0          &  3.713668  & ⋯          & 0          & 0          &  0.000000  & 0          &  3.252809  &  12.68390  & 0.1941953  &  4.8297262 & 0.000000   & joy       \\\\\n",
       "\t 0          & 0.000000   &  0.000000  &  5.076549  & 0.000000   & 13.958791  & 0          &  0.00000   & 0          &  9.438951  & ⋯          & 0          & 0          & 10.138422  & 0          & 34.665600  & 108.13919  & 0.6529808  & 18.4016819 & 0.000000   & surprise  \\\\\n",
       "\t 0          & 0.000000   &  0.000000  &  0.000000  & 0.000000   &  0.000000  & 0          & 10.05875   & 0          &  0.000000  & ⋯          & 0          & 0          &  0.000000  & 0          &  0.000000  &  10.24483  & 0.2490301  &  1.9077202 & 2.126544   & anger     \\\\\n",
       "\t 0          & 0.000000   & 12.830648  & 51.770573  & 0.000000   &  8.509871  & 0          & 10.14987   & 0          & 17.427689  & ⋯          & 0          & 0          &  9.041702  & 0          &  8.406343  &  24.51463  & 0.0000000  & 13.8936911 & 0.000000   & fear      \\\\\n",
       "\t 0          & 0.000000   &  0.000000  & 10.870393  & 0.000000   &  0.000000  & 0          &  0.00000   & 0          &  5.735597  & ⋯          & 0          & 0          &  9.588039  & 0          & 12.457659  &  98.30520  & 0.0000000  &  0.1925754 & 0.000000   & joy       \\\\\n",
       "\t 0          & 0.000000   &  0.000000  &  7.384062  & 0.000000   &  0.000000  & 0          &  0.00000   & 0          &  2.062235  & ⋯          & 0          & 0          &  0.000000  & 0          &  9.254303  &  50.65581  & 7.2976084  &  0.0000000 & 9.766267   & sadness   \\\\\n",
       "\\end{tabular}\n"
      ],
      "text/markdown": [
       "\n",
       "X1 | X2 | X3 | X4 | X5 | X6 | X7 | X8 | X9 | X10 | ⋯ | X653 | X654 | X655 | X656 | X657 | X658 | X659 | X660 | X661 | y | \n",
       "|---|---|---|---|---|---|\n",
       "| 0          | 4.599882   |  9.091185  |  7.318939  | 6.125261   | 11.260811  | 0          | 43.18150   | 0          |  3.713668  | ⋯          | 0          | 0          |  0.000000  | 0          |  3.252809  |  12.68390  | 0.1941953  |  4.8297262 | 0.000000   | joy        | \n",
       "| 0          | 0.000000   |  0.000000  |  5.076549  | 0.000000   | 13.958791  | 0          |  0.00000   | 0          |  9.438951  | ⋯          | 0          | 0          | 10.138422  | 0          | 34.665600  | 108.13919  | 0.6529808  | 18.4016819 | 0.000000   | surprise   | \n",
       "| 0          | 0.000000   |  0.000000  |  0.000000  | 0.000000   |  0.000000  | 0          | 10.05875   | 0          |  0.000000  | ⋯          | 0          | 0          |  0.000000  | 0          |  0.000000  |  10.24483  | 0.2490301  |  1.9077202 | 2.126544   | anger      | \n",
       "| 0          | 0.000000   | 12.830648  | 51.770573  | 0.000000   |  8.509871  | 0          | 10.14987   | 0          | 17.427689  | ⋯          | 0          | 0          |  9.041702  | 0          |  8.406343  |  24.51463  | 0.0000000  | 13.8936911 | 0.000000   | fear       | \n",
       "| 0          | 0.000000   |  0.000000  | 10.870393  | 0.000000   |  0.000000  | 0          |  0.00000   | 0          |  5.735597  | ⋯          | 0          | 0          |  9.588039  | 0          | 12.457659  |  98.30520  | 0.0000000  |  0.1925754 | 0.000000   | joy        | \n",
       "| 0          | 0.000000   |  0.000000  |  7.384062  | 0.000000   |  0.000000  | 0          |  0.00000   | 0          |  2.062235  | ⋯          | 0          | 0          |  0.000000  | 0          |  9.254303  |  50.65581  | 7.2976084  |  0.0000000 | 9.766267   | sadness    | \n",
       "\n",
       "\n"
      ],
      "text/plain": [
       "  X1 X2       X3        X4        X5       X6        X7 X8       X9 X10       ⋯\n",
       "1 0  4.599882  9.091185  7.318939 6.125261 11.260811 0  43.18150 0   3.713668 ⋯\n",
       "2 0  0.000000  0.000000  5.076549 0.000000 13.958791 0   0.00000 0   9.438951 ⋯\n",
       "3 0  0.000000  0.000000  0.000000 0.000000  0.000000 0  10.05875 0   0.000000 ⋯\n",
       "4 0  0.000000 12.830648 51.770573 0.000000  8.509871 0  10.14987 0  17.427689 ⋯\n",
       "5 0  0.000000  0.000000 10.870393 0.000000  0.000000 0   0.00000 0   5.735597 ⋯\n",
       "6 0  0.000000  0.000000  7.384062 0.000000  0.000000 0   0.00000 0   2.062235 ⋯\n",
       "  X653 X654 X655      X656 X657      X658      X659      X660       X661    \n",
       "1 0    0     0.000000 0     3.252809  12.68390 0.1941953  4.8297262 0.000000\n",
       "2 0    0    10.138422 0    34.665600 108.13919 0.6529808 18.4016819 0.000000\n",
       "3 0    0     0.000000 0     0.000000  10.24483 0.2490301  1.9077202 2.126544\n",
       "4 0    0     9.041702 0     8.406343  24.51463 0.0000000 13.8936911 0.000000\n",
       "5 0    0     9.588039 0    12.457659  98.30520 0.0000000  0.1925754 0.000000\n",
       "6 0    0     0.000000 0     9.254303  50.65581 7.2976084  0.0000000 9.766267\n",
       "  y       \n",
       "1 joy     \n",
       "2 surprise\n",
       "3 anger   \n",
       "4 fear    \n",
       "5 joy     \n",
       "6 sadness "
      ]
     },
     "metadata": {},
     "output_type": "display_data"
    }
   ],
   "source": [
    "head(new_data)"
   ]
  },
  {
   "cell_type": "code",
   "execution_count": 68,
   "metadata": {
    "collapsed": false
   },
   "outputs": [
    {
     "data": {
      "text/plain": [
       "folds_i\n",
       " 1  2  3  4  5  6  7  8  9 10 \n",
       "11 11 11 11 11 11 11 11 10 10 "
      ]
     },
     "metadata": {},
     "output_type": "display_data"
    },
    {
     "name": "stdout",
     "output_type": "stream",
     "text": [
      "[1] 1\n"
     ]
    },
    {
     "name": "stderr",
     "output_type": "stream",
     "text": [
      "\n",
      "Attaching package: ‘kernlab’\n",
      "\n",
      "The following object is masked from ‘package:ggplot2’:\n",
      "\n",
      "    alpha\n",
      "\n"
     ]
    },
    {
     "name": "stdout",
     "output_type": "stream",
     "text": [
      "+ Fold01: C=1 \n"
     ]
    },
    {
     "name": "stderr",
     "output_type": "stream",
     "text": [
      "Warning message in .local(x, ...):\n",
      "“Variable(s) `' constant. Cannot scale data.”"
     ]
    },
    {
     "name": "stdout",
     "output_type": "stream",
     "text": [
      "- Fold01: C=1 \n",
      "+ Fold02: C=1 \n"
     ]
    },
    {
     "name": "stderr",
     "output_type": "stream",
     "text": [
      "Warning message in .local(x, ...):\n",
      "“Variable(s) `' constant. Cannot scale data.”"
     ]
    },
    {
     "name": "stdout",
     "output_type": "stream",
     "text": [
      "- Fold02: C=1 \n",
      "+ Fold03: C=1 \n"
     ]
    },
    {
     "name": "stderr",
     "output_type": "stream",
     "text": [
      "Warning message in .local(x, ...):\n",
      "“Variable(s) `' constant. Cannot scale data.”"
     ]
    },
    {
     "name": "stdout",
     "output_type": "stream",
     "text": [
      "- Fold03: C=1 \n",
      "+ Fold04: C=1 \n"
     ]
    },
    {
     "name": "stderr",
     "output_type": "stream",
     "text": [
      "Warning message in .local(x, ...):\n",
      "“Variable(s) `' constant. Cannot scale data.”"
     ]
    },
    {
     "name": "stdout",
     "output_type": "stream",
     "text": [
      "- Fold04: C=1 \n",
      "+ Fold05: C=1 \n"
     ]
    },
    {
     "name": "stderr",
     "output_type": "stream",
     "text": [
      "Warning message in .local(x, ...):\n",
      "“Variable(s) `' constant. Cannot scale data.”"
     ]
    },
    {
     "name": "stdout",
     "output_type": "stream",
     "text": [
      "- Fold05: C=1 \n",
      "+ Fold06: C=1 \n"
     ]
    },
    {
     "name": "stderr",
     "output_type": "stream",
     "text": [
      "Warning message in .local(x, ...):\n",
      "“Variable(s) `' constant. Cannot scale data.”"
     ]
    },
    {
     "name": "stdout",
     "output_type": "stream",
     "text": [
      "- Fold06: C=1 \n",
      "+ Fold07: C=1 \n"
     ]
    },
    {
     "name": "stderr",
     "output_type": "stream",
     "text": [
      "Warning message in .local(x, ...):\n",
      "“Variable(s) `' constant. Cannot scale data.”"
     ]
    },
    {
     "name": "stdout",
     "output_type": "stream",
     "text": [
      "- Fold07: C=1 \n",
      "+ Fold08: C=1 \n"
     ]
    },
    {
     "name": "stderr",
     "output_type": "stream",
     "text": [
      "Warning message in .local(x, ...):\n",
      "“Variable(s) `' constant. Cannot scale data.”"
     ]
    },
    {
     "name": "stdout",
     "output_type": "stream",
     "text": [
      "- Fold08: C=1 \n",
      "+ Fold09: C=1 \n"
     ]
    },
    {
     "name": "stderr",
     "output_type": "stream",
     "text": [
      "Warning message in .local(x, ...):\n",
      "“Variable(s) `' constant. Cannot scale data.”"
     ]
    },
    {
     "name": "stdout",
     "output_type": "stream",
     "text": [
      "- Fold09: C=1 \n",
      "+ Fold10: C=1 \n"
     ]
    },
    {
     "name": "stderr",
     "output_type": "stream",
     "text": [
      "Warning message in .local(x, ...):\n",
      "“Variable(s) `' constant. Cannot scale data.”"
     ]
    },
    {
     "name": "stdout",
     "output_type": "stream",
     "text": [
      "- Fold10: C=1 \n",
      "Aggregating results\n",
      "Fitting final model on full training set\n"
     ]
    },
    {
     "name": "stderr",
     "output_type": "stream",
     "text": [
      "Warning message in .local(x, ...):\n",
      "“Variable(s) `' constant. Cannot scale data.”"
     ]
    },
    {
     "name": "stdout",
     "output_type": "stream",
     "text": [
      "[1] 2\n",
      "+ Fold01: C=1 \n"
     ]
    },
    {
     "name": "stderr",
     "output_type": "stream",
     "text": [
      "Warning message in .local(x, ...):\n",
      "“Variable(s) `' constant. Cannot scale data.”"
     ]
    },
    {
     "name": "stdout",
     "output_type": "stream",
     "text": [
      "- Fold01: C=1 \n",
      "+ Fold02: C=1 \n"
     ]
    },
    {
     "name": "stderr",
     "output_type": "stream",
     "text": [
      "Warning message in .local(x, ...):\n",
      "“Variable(s) `' constant. Cannot scale data.”"
     ]
    },
    {
     "name": "stdout",
     "output_type": "stream",
     "text": [
      "- Fold02: C=1 \n",
      "+ Fold03: C=1 \n"
     ]
    },
    {
     "name": "stderr",
     "output_type": "stream",
     "text": [
      "Warning message in .local(x, ...):\n",
      "“Variable(s) `' constant. Cannot scale data.”"
     ]
    },
    {
     "name": "stdout",
     "output_type": "stream",
     "text": [
      "- Fold03: C=1 \n",
      "+ Fold04: C=1 \n"
     ]
    },
    {
     "name": "stderr",
     "output_type": "stream",
     "text": [
      "Warning message in .local(x, ...):\n",
      "“Variable(s) `' constant. Cannot scale data.”"
     ]
    },
    {
     "name": "stdout",
     "output_type": "stream",
     "text": [
      "- Fold04: C=1 \n",
      "+ Fold05: C=1 \n"
     ]
    },
    {
     "name": "stderr",
     "output_type": "stream",
     "text": [
      "Warning message in .local(x, ...):\n",
      "“Variable(s) `' constant. Cannot scale data.”"
     ]
    },
    {
     "name": "stdout",
     "output_type": "stream",
     "text": [
      "- Fold05: C=1 \n",
      "+ Fold06: C=1 \n"
     ]
    },
    {
     "name": "stderr",
     "output_type": "stream",
     "text": [
      "Warning message in .local(x, ...):\n",
      "“Variable(s) `' constant. Cannot scale data.”"
     ]
    },
    {
     "name": "stdout",
     "output_type": "stream",
     "text": [
      "- Fold06: C=1 \n",
      "+ Fold07: C=1 \n"
     ]
    },
    {
     "name": "stderr",
     "output_type": "stream",
     "text": [
      "Warning message in .local(x, ...):\n",
      "“Variable(s) `' constant. Cannot scale data.”"
     ]
    },
    {
     "name": "stdout",
     "output_type": "stream",
     "text": [
      "- Fold07: C=1 \n",
      "+ Fold08: C=1 \n"
     ]
    },
    {
     "name": "stderr",
     "output_type": "stream",
     "text": [
      "Warning message in .local(x, ...):\n",
      "“Variable(s) `' constant. Cannot scale data.”"
     ]
    },
    {
     "name": "stdout",
     "output_type": "stream",
     "text": [
      "- Fold08: C=1 \n",
      "+ Fold09: C=1 \n"
     ]
    },
    {
     "name": "stderr",
     "output_type": "stream",
     "text": [
      "Warning message in .local(x, ...):\n",
      "“Variable(s) `' constant. Cannot scale data.”"
     ]
    },
    {
     "name": "stdout",
     "output_type": "stream",
     "text": [
      "- Fold09: C=1 \n",
      "+ Fold10: C=1 \n"
     ]
    },
    {
     "name": "stderr",
     "output_type": "stream",
     "text": [
      "Warning message in .local(x, ...):\n",
      "“Variable(s) `' constant. Cannot scale data.”"
     ]
    },
    {
     "name": "stdout",
     "output_type": "stream",
     "text": [
      "- Fold10: C=1 \n",
      "Aggregating results\n",
      "Fitting final model on full training set\n"
     ]
    },
    {
     "name": "stderr",
     "output_type": "stream",
     "text": [
      "Warning message in .local(x, ...):\n",
      "“Variable(s) `' constant. Cannot scale data.”"
     ]
    },
    {
     "name": "stdout",
     "output_type": "stream",
     "text": [
      "[1] 3\n",
      "+ Fold01: C=1 \n"
     ]
    },
    {
     "name": "stderr",
     "output_type": "stream",
     "text": [
      "Warning message in .local(x, ...):\n",
      "“Variable(s) `' constant. Cannot scale data.”"
     ]
    },
    {
     "name": "stdout",
     "output_type": "stream",
     "text": [
      "- Fold01: C=1 \n",
      "+ Fold02: C=1 \n"
     ]
    },
    {
     "name": "stderr",
     "output_type": "stream",
     "text": [
      "Warning message in .local(x, ...):\n",
      "“Variable(s) `' constant. Cannot scale data.”"
     ]
    },
    {
     "name": "stdout",
     "output_type": "stream",
     "text": [
      "- Fold02: C=1 \n",
      "+ Fold03: C=1 \n"
     ]
    },
    {
     "name": "stderr",
     "output_type": "stream",
     "text": [
      "Warning message in .local(x, ...):\n",
      "“Variable(s) `' constant. Cannot scale data.”"
     ]
    },
    {
     "name": "stdout",
     "output_type": "stream",
     "text": [
      "- Fold03: C=1 \n",
      "+ Fold04: C=1 \n"
     ]
    },
    {
     "name": "stderr",
     "output_type": "stream",
     "text": [
      "Warning message in .local(x, ...):\n",
      "“Variable(s) `' constant. Cannot scale data.”"
     ]
    },
    {
     "name": "stdout",
     "output_type": "stream",
     "text": [
      "- Fold04: C=1 \n",
      "+ Fold05: C=1 \n"
     ]
    },
    {
     "name": "stderr",
     "output_type": "stream",
     "text": [
      "Warning message in .local(x, ...):\n",
      "“Variable(s) `' constant. Cannot scale data.”"
     ]
    },
    {
     "name": "stdout",
     "output_type": "stream",
     "text": [
      "- Fold05: C=1 \n",
      "+ Fold06: C=1 \n"
     ]
    },
    {
     "name": "stderr",
     "output_type": "stream",
     "text": [
      "Warning message in .local(x, ...):\n",
      "“Variable(s) `' constant. Cannot scale data.”"
     ]
    },
    {
     "name": "stdout",
     "output_type": "stream",
     "text": [
      "- Fold06: C=1 \n",
      "+ Fold07: C=1 \n"
     ]
    },
    {
     "name": "stderr",
     "output_type": "stream",
     "text": [
      "Warning message in .local(x, ...):\n",
      "“Variable(s) `' constant. Cannot scale data.”"
     ]
    },
    {
     "name": "stdout",
     "output_type": "stream",
     "text": [
      "- Fold07: C=1 \n",
      "+ Fold08: C=1 \n"
     ]
    },
    {
     "name": "stderr",
     "output_type": "stream",
     "text": [
      "Warning message in .local(x, ...):\n",
      "“Variable(s) `' constant. Cannot scale data.”"
     ]
    },
    {
     "name": "stdout",
     "output_type": "stream",
     "text": [
      "- Fold08: C=1 \n",
      "+ Fold09: C=1 \n"
     ]
    },
    {
     "name": "stderr",
     "output_type": "stream",
     "text": [
      "Warning message in .local(x, ...):\n",
      "“Variable(s) `' constant. Cannot scale data.”"
     ]
    },
    {
     "name": "stdout",
     "output_type": "stream",
     "text": [
      "- Fold09: C=1 \n",
      "+ Fold10: C=1 \n"
     ]
    },
    {
     "name": "stderr",
     "output_type": "stream",
     "text": [
      "Warning message in .local(x, ...):\n",
      "“Variable(s) `' constant. Cannot scale data.”"
     ]
    },
    {
     "name": "stdout",
     "output_type": "stream",
     "text": [
      "- Fold10: C=1 \n",
      "Aggregating results\n",
      "Fitting final model on full training set\n"
     ]
    },
    {
     "name": "stderr",
     "output_type": "stream",
     "text": [
      "Warning message in .local(x, ...):\n",
      "“Variable(s) `' constant. Cannot scale data.”"
     ]
    },
    {
     "name": "stdout",
     "output_type": "stream",
     "text": [
      "[1] 4\n",
      "+ Fold01: C=1 \n"
     ]
    },
    {
     "name": "stderr",
     "output_type": "stream",
     "text": [
      "Warning message in .local(x, ...):\n",
      "“Variable(s) `' constant. Cannot scale data.”"
     ]
    },
    {
     "name": "stdout",
     "output_type": "stream",
     "text": [
      "- Fold01: C=1 \n",
      "+ Fold02: C=1 \n"
     ]
    },
    {
     "name": "stderr",
     "output_type": "stream",
     "text": [
      "Warning message in .local(x, ...):\n",
      "“Variable(s) `' constant. Cannot scale data.”"
     ]
    },
    {
     "name": "stdout",
     "output_type": "stream",
     "text": [
      "- Fold02: C=1 \n",
      "+ Fold03: C=1 \n"
     ]
    },
    {
     "name": "stderr",
     "output_type": "stream",
     "text": [
      "Warning message in .local(x, ...):\n",
      "“Variable(s) `' constant. Cannot scale data.”"
     ]
    },
    {
     "name": "stdout",
     "output_type": "stream",
     "text": [
      "- Fold03: C=1 \n",
      "+ Fold04: C=1 \n"
     ]
    },
    {
     "name": "stderr",
     "output_type": "stream",
     "text": [
      "Warning message in .local(x, ...):\n",
      "“Variable(s) `' constant. Cannot scale data.”"
     ]
    },
    {
     "name": "stdout",
     "output_type": "stream",
     "text": [
      "- Fold04: C=1 \n",
      "+ Fold05: C=1 \n"
     ]
    },
    {
     "name": "stderr",
     "output_type": "stream",
     "text": [
      "Warning message in .local(x, ...):\n",
      "“Variable(s) `' constant. Cannot scale data.”"
     ]
    },
    {
     "name": "stdout",
     "output_type": "stream",
     "text": [
      "- Fold05: C=1 \n",
      "+ Fold06: C=1 \n"
     ]
    },
    {
     "name": "stderr",
     "output_type": "stream",
     "text": [
      "Warning message in .local(x, ...):\n",
      "“Variable(s) `' constant. Cannot scale data.”"
     ]
    },
    {
     "name": "stdout",
     "output_type": "stream",
     "text": [
      "- Fold06: C=1 \n",
      "+ Fold07: C=1 \n"
     ]
    },
    {
     "name": "stderr",
     "output_type": "stream",
     "text": [
      "Warning message in .local(x, ...):\n",
      "“Variable(s) `' constant. Cannot scale data.”"
     ]
    },
    {
     "name": "stdout",
     "output_type": "stream",
     "text": [
      "- Fold07: C=1 \n",
      "+ Fold08: C=1 \n"
     ]
    },
    {
     "name": "stderr",
     "output_type": "stream",
     "text": [
      "Warning message in .local(x, ...):\n",
      "“Variable(s) `' constant. Cannot scale data.”"
     ]
    },
    {
     "name": "stdout",
     "output_type": "stream",
     "text": [
      "- Fold08: C=1 \n",
      "+ Fold09: C=1 \n"
     ]
    },
    {
     "name": "stderr",
     "output_type": "stream",
     "text": [
      "Warning message in .local(x, ...):\n",
      "“Variable(s) `' constant. Cannot scale data.”"
     ]
    },
    {
     "name": "stdout",
     "output_type": "stream",
     "text": [
      "- Fold09: C=1 \n",
      "+ Fold10: C=1 \n"
     ]
    },
    {
     "name": "stderr",
     "output_type": "stream",
     "text": [
      "Warning message in .local(x, ...):\n",
      "“Variable(s) `' constant. Cannot scale data.”"
     ]
    },
    {
     "name": "stdout",
     "output_type": "stream",
     "text": [
      "- Fold10: C=1 \n",
      "Aggregating results\n",
      "Fitting final model on full training set\n"
     ]
    },
    {
     "name": "stderr",
     "output_type": "stream",
     "text": [
      "Warning message in .local(x, ...):\n",
      "“Variable(s) `' constant. Cannot scale data.”"
     ]
    },
    {
     "name": "stdout",
     "output_type": "stream",
     "text": [
      "[1] 5\n",
      "+ Fold01: C=1 \n"
     ]
    },
    {
     "name": "stderr",
     "output_type": "stream",
     "text": [
      "Warning message in .local(x, ...):\n",
      "“Variable(s) `' constant. Cannot scale data.”"
     ]
    },
    {
     "name": "stdout",
     "output_type": "stream",
     "text": [
      "- Fold01: C=1 \n",
      "+ Fold02: C=1 \n"
     ]
    },
    {
     "name": "stderr",
     "output_type": "stream",
     "text": [
      "Warning message in .local(x, ...):\n",
      "“Variable(s) `' constant. Cannot scale data.”"
     ]
    },
    {
     "name": "stdout",
     "output_type": "stream",
     "text": [
      "- Fold02: C=1 \n",
      "+ Fold03: C=1 \n"
     ]
    },
    {
     "name": "stderr",
     "output_type": "stream",
     "text": [
      "Warning message in .local(x, ...):\n",
      "“Variable(s) `' constant. Cannot scale data.”"
     ]
    },
    {
     "name": "stdout",
     "output_type": "stream",
     "text": [
      "- Fold03: C=1 \n",
      "+ Fold04: C=1 \n"
     ]
    },
    {
     "name": "stderr",
     "output_type": "stream",
     "text": [
      "Warning message in .local(x, ...):\n",
      "“Variable(s) `' constant. Cannot scale data.”"
     ]
    },
    {
     "name": "stdout",
     "output_type": "stream",
     "text": [
      "- Fold04: C=1 \n",
      "+ Fold05: C=1 \n"
     ]
    },
    {
     "name": "stderr",
     "output_type": "stream",
     "text": [
      "Warning message in .local(x, ...):\n",
      "“Variable(s) `' constant. Cannot scale data.”"
     ]
    },
    {
     "name": "stdout",
     "output_type": "stream",
     "text": [
      "- Fold05: C=1 \n",
      "+ Fold06: C=1 \n"
     ]
    },
    {
     "name": "stderr",
     "output_type": "stream",
     "text": [
      "Warning message in .local(x, ...):\n",
      "“Variable(s) `' constant. Cannot scale data.”"
     ]
    },
    {
     "name": "stdout",
     "output_type": "stream",
     "text": [
      "- Fold06: C=1 \n",
      "+ Fold07: C=1 \n"
     ]
    },
    {
     "name": "stderr",
     "output_type": "stream",
     "text": [
      "Warning message in .local(x, ...):\n",
      "“Variable(s) `' constant. Cannot scale data.”"
     ]
    },
    {
     "name": "stdout",
     "output_type": "stream",
     "text": [
      "- Fold07: C=1 \n",
      "+ Fold08: C=1 \n"
     ]
    },
    {
     "name": "stderr",
     "output_type": "stream",
     "text": [
      "Warning message in .local(x, ...):\n",
      "“Variable(s) `' constant. Cannot scale data.”"
     ]
    },
    {
     "name": "stdout",
     "output_type": "stream",
     "text": [
      "- Fold08: C=1 \n",
      "+ Fold09: C=1 \n"
     ]
    },
    {
     "name": "stderr",
     "output_type": "stream",
     "text": [
      "Warning message in .local(x, ...):\n",
      "“Variable(s) `' constant. Cannot scale data.”"
     ]
    },
    {
     "name": "stdout",
     "output_type": "stream",
     "text": [
      "- Fold09: C=1 \n",
      "+ Fold10: C=1 \n"
     ]
    },
    {
     "name": "stderr",
     "output_type": "stream",
     "text": [
      "Warning message in .local(x, ...):\n",
      "“Variable(s) `' constant. Cannot scale data.”"
     ]
    },
    {
     "name": "stdout",
     "output_type": "stream",
     "text": [
      "- Fold10: C=1 \n",
      "Aggregating results\n",
      "Fitting final model on full training set\n"
     ]
    },
    {
     "name": "stderr",
     "output_type": "stream",
     "text": [
      "Warning message in .local(x, ...):\n",
      "“Variable(s) `' constant. Cannot scale data.”"
     ]
    },
    {
     "name": "stdout",
     "output_type": "stream",
     "text": [
      "[1] 6\n",
      "+ Fold01: C=1 \n"
     ]
    },
    {
     "name": "stderr",
     "output_type": "stream",
     "text": [
      "Warning message in .local(x, ...):\n",
      "“Variable(s) `' constant. Cannot scale data.”"
     ]
    },
    {
     "name": "stdout",
     "output_type": "stream",
     "text": [
      "- Fold01: C=1 \n",
      "+ Fold02: C=1 \n"
     ]
    },
    {
     "name": "stderr",
     "output_type": "stream",
     "text": [
      "Warning message in .local(x, ...):\n",
      "“Variable(s) `' constant. Cannot scale data.”"
     ]
    },
    {
     "name": "stdout",
     "output_type": "stream",
     "text": [
      "- Fold02: C=1 \n",
      "+ Fold03: C=1 \n"
     ]
    },
    {
     "name": "stderr",
     "output_type": "stream",
     "text": [
      "Warning message in .local(x, ...):\n",
      "“Variable(s) `' constant. Cannot scale data.”"
     ]
    },
    {
     "name": "stdout",
     "output_type": "stream",
     "text": [
      "- Fold03: C=1 \n",
      "+ Fold04: C=1 \n"
     ]
    },
    {
     "name": "stderr",
     "output_type": "stream",
     "text": [
      "Warning message in .local(x, ...):\n",
      "“Variable(s) `' constant. Cannot scale data.”"
     ]
    },
    {
     "name": "stdout",
     "output_type": "stream",
     "text": [
      "- Fold04: C=1 \n",
      "+ Fold05: C=1 \n"
     ]
    },
    {
     "name": "stderr",
     "output_type": "stream",
     "text": [
      "Warning message in .local(x, ...):\n",
      "“Variable(s) `' constant. Cannot scale data.”"
     ]
    },
    {
     "name": "stdout",
     "output_type": "stream",
     "text": [
      "- Fold05: C=1 \n",
      "+ Fold06: C=1 \n"
     ]
    },
    {
     "name": "stderr",
     "output_type": "stream",
     "text": [
      "Warning message in .local(x, ...):\n",
      "“Variable(s) `' constant. Cannot scale data.”"
     ]
    },
    {
     "name": "stdout",
     "output_type": "stream",
     "text": [
      "- Fold06: C=1 \n",
      "+ Fold07: C=1 \n"
     ]
    },
    {
     "name": "stderr",
     "output_type": "stream",
     "text": [
      "Warning message in .local(x, ...):\n",
      "“Variable(s) `' constant. Cannot scale data.”"
     ]
    },
    {
     "name": "stdout",
     "output_type": "stream",
     "text": [
      "- Fold07: C=1 \n",
      "+ Fold08: C=1 \n"
     ]
    },
    {
     "name": "stderr",
     "output_type": "stream",
     "text": [
      "Warning message in .local(x, ...):\n",
      "“Variable(s) `' constant. Cannot scale data.”"
     ]
    },
    {
     "name": "stdout",
     "output_type": "stream",
     "text": [
      "- Fold08: C=1 \n",
      "+ Fold09: C=1 \n"
     ]
    },
    {
     "name": "stderr",
     "output_type": "stream",
     "text": [
      "Warning message in .local(x, ...):\n",
      "“Variable(s) `' constant. Cannot scale data.”"
     ]
    },
    {
     "name": "stdout",
     "output_type": "stream",
     "text": [
      "- Fold09: C=1 \n",
      "+ Fold10: C=1 \n"
     ]
    },
    {
     "name": "stderr",
     "output_type": "stream",
     "text": [
      "Warning message in .local(x, ...):\n",
      "“Variable(s) `' constant. Cannot scale data.”"
     ]
    },
    {
     "name": "stdout",
     "output_type": "stream",
     "text": [
      "- Fold10: C=1 \n",
      "Aggregating results\n",
      "Fitting final model on full training set\n"
     ]
    },
    {
     "name": "stderr",
     "output_type": "stream",
     "text": [
      "Warning message in .local(x, ...):\n",
      "“Variable(s) `' constant. Cannot scale data.”"
     ]
    },
    {
     "name": "stdout",
     "output_type": "stream",
     "text": [
      "[1] 7\n",
      "+ Fold01: C=1 \n"
     ]
    },
    {
     "name": "stderr",
     "output_type": "stream",
     "text": [
      "Warning message in .local(x, ...):\n",
      "“Variable(s) `' constant. Cannot scale data.”"
     ]
    },
    {
     "name": "stdout",
     "output_type": "stream",
     "text": [
      "- Fold01: C=1 \n",
      "+ Fold02: C=1 \n"
     ]
    },
    {
     "name": "stderr",
     "output_type": "stream",
     "text": [
      "Warning message in .local(x, ...):\n",
      "“Variable(s) `' constant. Cannot scale data.”"
     ]
    },
    {
     "name": "stdout",
     "output_type": "stream",
     "text": [
      "- Fold02: C=1 \n",
      "+ Fold03: C=1 \n"
     ]
    },
    {
     "name": "stderr",
     "output_type": "stream",
     "text": [
      "Warning message in .local(x, ...):\n",
      "“Variable(s) `' constant. Cannot scale data.”"
     ]
    },
    {
     "name": "stdout",
     "output_type": "stream",
     "text": [
      "- Fold03: C=1 \n",
      "+ Fold04: C=1 \n"
     ]
    },
    {
     "name": "stderr",
     "output_type": "stream",
     "text": [
      "Warning message in .local(x, ...):\n",
      "“Variable(s) `' constant. Cannot scale data.”"
     ]
    },
    {
     "name": "stdout",
     "output_type": "stream",
     "text": [
      "- Fold04: C=1 \n",
      "+ Fold05: C=1 \n"
     ]
    },
    {
     "name": "stderr",
     "output_type": "stream",
     "text": [
      "Warning message in .local(x, ...):\n",
      "“Variable(s) `' constant. Cannot scale data.”"
     ]
    },
    {
     "name": "stdout",
     "output_type": "stream",
     "text": [
      "- Fold05: C=1 \n",
      "+ Fold06: C=1 \n"
     ]
    },
    {
     "name": "stderr",
     "output_type": "stream",
     "text": [
      "Warning message in .local(x, ...):\n",
      "“Variable(s) `' constant. Cannot scale data.”"
     ]
    },
    {
     "name": "stdout",
     "output_type": "stream",
     "text": [
      "- Fold06: C=1 \n",
      "+ Fold07: C=1 \n"
     ]
    },
    {
     "name": "stderr",
     "output_type": "stream",
     "text": [
      "Warning message in .local(x, ...):\n",
      "“Variable(s) `' constant. Cannot scale data.”"
     ]
    },
    {
     "name": "stdout",
     "output_type": "stream",
     "text": [
      "- Fold07: C=1 \n",
      "+ Fold08: C=1 \n"
     ]
    },
    {
     "name": "stderr",
     "output_type": "stream",
     "text": [
      "Warning message in .local(x, ...):\n",
      "“Variable(s) `' constant. Cannot scale data.”"
     ]
    },
    {
     "name": "stdout",
     "output_type": "stream",
     "text": [
      "- Fold08: C=1 \n",
      "+ Fold09: C=1 \n"
     ]
    },
    {
     "name": "stderr",
     "output_type": "stream",
     "text": [
      "Warning message in .local(x, ...):\n",
      "“Variable(s) `' constant. Cannot scale data.”"
     ]
    },
    {
     "name": "stdout",
     "output_type": "stream",
     "text": [
      "- Fold09: C=1 \n",
      "+ Fold10: C=1 \n"
     ]
    },
    {
     "name": "stderr",
     "output_type": "stream",
     "text": [
      "Warning message in .local(x, ...):\n",
      "“Variable(s) `' constant. Cannot scale data.”"
     ]
    },
    {
     "name": "stdout",
     "output_type": "stream",
     "text": [
      "- Fold10: C=1 \n",
      "Aggregating results\n",
      "Fitting final model on full training set\n"
     ]
    },
    {
     "name": "stderr",
     "output_type": "stream",
     "text": [
      "Warning message in .local(x, ...):\n",
      "“Variable(s) `' constant. Cannot scale data.”"
     ]
    },
    {
     "name": "stdout",
     "output_type": "stream",
     "text": [
      "[1] 8\n",
      "+ Fold01: C=1 \n"
     ]
    },
    {
     "name": "stderr",
     "output_type": "stream",
     "text": [
      "Warning message in .local(x, ...):\n",
      "“Variable(s) `' constant. Cannot scale data.”"
     ]
    },
    {
     "name": "stdout",
     "output_type": "stream",
     "text": [
      "- Fold01: C=1 \n",
      "+ Fold02: C=1 \n"
     ]
    },
    {
     "name": "stderr",
     "output_type": "stream",
     "text": [
      "Warning message in .local(x, ...):\n",
      "“Variable(s) `' constant. Cannot scale data.”"
     ]
    },
    {
     "name": "stdout",
     "output_type": "stream",
     "text": [
      "- Fold02: C=1 \n",
      "+ Fold03: C=1 \n"
     ]
    },
    {
     "name": "stderr",
     "output_type": "stream",
     "text": [
      "Warning message in .local(x, ...):\n",
      "“Variable(s) `' constant. Cannot scale data.”"
     ]
    },
    {
     "name": "stdout",
     "output_type": "stream",
     "text": [
      "- Fold03: C=1 \n",
      "+ Fold04: C=1 \n"
     ]
    },
    {
     "name": "stderr",
     "output_type": "stream",
     "text": [
      "Warning message in .local(x, ...):\n",
      "“Variable(s) `' constant. Cannot scale data.”"
     ]
    },
    {
     "name": "stdout",
     "output_type": "stream",
     "text": [
      "- Fold04: C=1 \n",
      "+ Fold05: C=1 \n"
     ]
    },
    {
     "name": "stderr",
     "output_type": "stream",
     "text": [
      "Warning message in .local(x, ...):\n",
      "“Variable(s) `' constant. Cannot scale data.”"
     ]
    },
    {
     "name": "stdout",
     "output_type": "stream",
     "text": [
      "- Fold05: C=1 \n",
      "+ Fold06: C=1 \n"
     ]
    },
    {
     "name": "stderr",
     "output_type": "stream",
     "text": [
      "Warning message in .local(x, ...):\n",
      "“Variable(s) `' constant. Cannot scale data.”"
     ]
    },
    {
     "name": "stdout",
     "output_type": "stream",
     "text": [
      "- Fold06: C=1 \n",
      "+ Fold07: C=1 \n"
     ]
    },
    {
     "name": "stderr",
     "output_type": "stream",
     "text": [
      "Warning message in .local(x, ...):\n",
      "“Variable(s) `' constant. Cannot scale data.”"
     ]
    },
    {
     "name": "stdout",
     "output_type": "stream",
     "text": [
      "- Fold07: C=1 \n",
      "+ Fold08: C=1 \n"
     ]
    },
    {
     "name": "stderr",
     "output_type": "stream",
     "text": [
      "Warning message in .local(x, ...):\n",
      "“Variable(s) `' constant. Cannot scale data.”"
     ]
    },
    {
     "name": "stdout",
     "output_type": "stream",
     "text": [
      "- Fold08: C=1 \n",
      "+ Fold09: C=1 \n"
     ]
    },
    {
     "name": "stderr",
     "output_type": "stream",
     "text": [
      "Warning message in .local(x, ...):\n",
      "“Variable(s) `' constant. Cannot scale data.”"
     ]
    },
    {
     "name": "stdout",
     "output_type": "stream",
     "text": [
      "- Fold09: C=1 \n",
      "+ Fold10: C=1 \n"
     ]
    },
    {
     "name": "stderr",
     "output_type": "stream",
     "text": [
      "Warning message in .local(x, ...):\n",
      "“Variable(s) `' constant. Cannot scale data.”"
     ]
    },
    {
     "name": "stdout",
     "output_type": "stream",
     "text": [
      "- Fold10: C=1 \n",
      "Aggregating results\n",
      "Fitting final model on full training set\n"
     ]
    },
    {
     "name": "stderr",
     "output_type": "stream",
     "text": [
      "Warning message in .local(x, ...):\n",
      "“Variable(s) `' constant. Cannot scale data.”"
     ]
    },
    {
     "name": "stdout",
     "output_type": "stream",
     "text": [
      "[1] 9\n",
      "+ Fold01: C=1 \n"
     ]
    },
    {
     "name": "stderr",
     "output_type": "stream",
     "text": [
      "Warning message in .local(x, ...):\n",
      "“Variable(s) `' constant. Cannot scale data.”"
     ]
    },
    {
     "name": "stdout",
     "output_type": "stream",
     "text": [
      "- Fold01: C=1 \n",
      "+ Fold02: C=1 \n"
     ]
    },
    {
     "name": "stderr",
     "output_type": "stream",
     "text": [
      "Warning message in .local(x, ...):\n",
      "“Variable(s) `' constant. Cannot scale data.”"
     ]
    },
    {
     "name": "stdout",
     "output_type": "stream",
     "text": [
      "- Fold02: C=1 \n",
      "+ Fold03: C=1 \n"
     ]
    },
    {
     "name": "stderr",
     "output_type": "stream",
     "text": [
      "Warning message in .local(x, ...):\n",
      "“Variable(s) `' constant. Cannot scale data.”"
     ]
    },
    {
     "name": "stdout",
     "output_type": "stream",
     "text": [
      "- Fold03: C=1 \n",
      "+ Fold04: C=1 \n"
     ]
    },
    {
     "name": "stderr",
     "output_type": "stream",
     "text": [
      "Warning message in .local(x, ...):\n",
      "“Variable(s) `' constant. Cannot scale data.”"
     ]
    },
    {
     "name": "stdout",
     "output_type": "stream",
     "text": [
      "- Fold04: C=1 \n",
      "+ Fold05: C=1 \n"
     ]
    },
    {
     "name": "stderr",
     "output_type": "stream",
     "text": [
      "Warning message in .local(x, ...):\n",
      "“Variable(s) `' constant. Cannot scale data.”"
     ]
    },
    {
     "name": "stdout",
     "output_type": "stream",
     "text": [
      "- Fold05: C=1 \n",
      "+ Fold06: C=1 \n"
     ]
    },
    {
     "name": "stderr",
     "output_type": "stream",
     "text": [
      "Warning message in .local(x, ...):\n",
      "“Variable(s) `' constant. Cannot scale data.”"
     ]
    },
    {
     "name": "stdout",
     "output_type": "stream",
     "text": [
      "- Fold06: C=1 \n",
      "+ Fold07: C=1 \n"
     ]
    },
    {
     "name": "stderr",
     "output_type": "stream",
     "text": [
      "Warning message in .local(x, ...):\n",
      "“Variable(s) `' constant. Cannot scale data.”"
     ]
    },
    {
     "name": "stdout",
     "output_type": "stream",
     "text": [
      "- Fold07: C=1 \n",
      "+ Fold08: C=1 \n"
     ]
    },
    {
     "name": "stderr",
     "output_type": "stream",
     "text": [
      "Warning message in .local(x, ...):\n",
      "“Variable(s) `' constant. Cannot scale data.”"
     ]
    },
    {
     "name": "stdout",
     "output_type": "stream",
     "text": [
      "- Fold08: C=1 \n",
      "+ Fold09: C=1 \n"
     ]
    },
    {
     "name": "stderr",
     "output_type": "stream",
     "text": [
      "Warning message in .local(x, ...):\n",
      "“Variable(s) `' constant. Cannot scale data.”"
     ]
    },
    {
     "name": "stdout",
     "output_type": "stream",
     "text": [
      "- Fold09: C=1 \n",
      "+ Fold10: C=1 \n"
     ]
    },
    {
     "name": "stderr",
     "output_type": "stream",
     "text": [
      "Warning message in .local(x, ...):\n",
      "“Variable(s) `' constant. Cannot scale data.”"
     ]
    },
    {
     "name": "stdout",
     "output_type": "stream",
     "text": [
      "- Fold10: C=1 \n",
      "Aggregating results\n",
      "Fitting final model on full training set\n"
     ]
    },
    {
     "name": "stderr",
     "output_type": "stream",
     "text": [
      "Warning message in .local(x, ...):\n",
      "“Variable(s) `' constant. Cannot scale data.”"
     ]
    },
    {
     "name": "stdout",
     "output_type": "stream",
     "text": [
      "[1] 10\n",
      "+ Fold01: C=1 \n"
     ]
    },
    {
     "name": "stderr",
     "output_type": "stream",
     "text": [
      "Warning message in .local(x, ...):\n",
      "“Variable(s) `' constant. Cannot scale data.”"
     ]
    },
    {
     "name": "stdout",
     "output_type": "stream",
     "text": [
      "- Fold01: C=1 \n",
      "+ Fold02: C=1 \n"
     ]
    },
    {
     "name": "stderr",
     "output_type": "stream",
     "text": [
      "Warning message in .local(x, ...):\n",
      "“Variable(s) `' constant. Cannot scale data.”"
     ]
    },
    {
     "name": "stdout",
     "output_type": "stream",
     "text": [
      "- Fold02: C=1 \n",
      "+ Fold03: C=1 \n"
     ]
    },
    {
     "name": "stderr",
     "output_type": "stream",
     "text": [
      "Warning message in .local(x, ...):\n",
      "“Variable(s) `' constant. Cannot scale data.”"
     ]
    },
    {
     "name": "stdout",
     "output_type": "stream",
     "text": [
      "- Fold03: C=1 \n",
      "+ Fold04: C=1 \n"
     ]
    },
    {
     "name": "stderr",
     "output_type": "stream",
     "text": [
      "Warning message in .local(x, ...):\n",
      "“Variable(s) `' constant. Cannot scale data.”"
     ]
    },
    {
     "name": "stdout",
     "output_type": "stream",
     "text": [
      "- Fold04: C=1 \n",
      "+ Fold05: C=1 \n"
     ]
    },
    {
     "name": "stderr",
     "output_type": "stream",
     "text": [
      "Warning message in .local(x, ...):\n",
      "“Variable(s) `' constant. Cannot scale data.”"
     ]
    },
    {
     "name": "stdout",
     "output_type": "stream",
     "text": [
      "- Fold05: C=1 \n",
      "+ Fold06: C=1 \n"
     ]
    },
    {
     "name": "stderr",
     "output_type": "stream",
     "text": [
      "Warning message in .local(x, ...):\n",
      "“Variable(s) `' constant. Cannot scale data.”"
     ]
    },
    {
     "name": "stdout",
     "output_type": "stream",
     "text": [
      "- Fold06: C=1 \n",
      "+ Fold07: C=1 \n"
     ]
    },
    {
     "name": "stderr",
     "output_type": "stream",
     "text": [
      "Warning message in .local(x, ...):\n",
      "“Variable(s) `' constant. Cannot scale data.”"
     ]
    },
    {
     "name": "stdout",
     "output_type": "stream",
     "text": [
      "- Fold07: C=1 \n",
      "+ Fold08: C=1 \n"
     ]
    },
    {
     "name": "stderr",
     "output_type": "stream",
     "text": [
      "Warning message in .local(x, ...):\n",
      "“Variable(s) `' constant. Cannot scale data.”"
     ]
    },
    {
     "name": "stdout",
     "output_type": "stream",
     "text": [
      "- Fold08: C=1 \n",
      "+ Fold09: C=1 \n"
     ]
    },
    {
     "name": "stderr",
     "output_type": "stream",
     "text": [
      "Warning message in .local(x, ...):\n",
      "“Variable(s) `' constant. Cannot scale data.”"
     ]
    },
    {
     "name": "stdout",
     "output_type": "stream",
     "text": [
      "- Fold09: C=1 \n",
      "+ Fold10: C=1 \n"
     ]
    },
    {
     "name": "stderr",
     "output_type": "stream",
     "text": [
      "Warning message in .local(x, ...):\n",
      "“Variable(s) `' constant. Cannot scale data.”"
     ]
    },
    {
     "name": "stdout",
     "output_type": "stream",
     "text": [
      "- Fold10: C=1 \n",
      "Aggregating results\n",
      "Fitting final model on full training set\n"
     ]
    },
    {
     "name": "stderr",
     "output_type": "stream",
     "text": [
      "Warning message in .local(x, ...):\n",
      "“Variable(s) `' constant. Cannot scale data.”"
     ]
    }
   ],
   "source": [
    "n_folds <- 10\n",
    "folds_i <- sample(rep(1:n_folds, length.out = n)) # !!! le ntrain doit correspondre à la taille du dataset que l'on utilisera dans la boucle de cross validation \n",
    "table(folds_i) # Pas le même nombre d'éléments \n",
    "CV<-rep(0,10)\n",
    "for (k in 1:n_folds) {# we loop on the number of folds, to build k models\n",
    "  data_to_use <- new_data\n",
    "  ncol <- ncol(data_to_use)\n",
    "  test_i <- which(folds_i == k)\n",
    "  train_xy <- data_to_use[-test_i, ]\n",
    "  test_xy <- data_to_use[test_i, ]\n",
    "  print(k)\n",
    "  model_svmLinear <- caret::train(train_xy[,1:ncol-1],train_xy$y,method='svmLinear',trControl=trainControl(\n",
    "    method = \"cv\",\n",
    "    number =10,\n",
    "    verboseIter = TRUE))\n",
    "  predictions_svmLinear<-predict.train(object=model_svmLinear,test_xy[,1:ncol-1])\n",
    "  cf_svmLinear<-caret::confusionMatrix(data= predictions_svmLinear,reference=test_xy$y) \n",
    "  CV[k]<- cf_svmLinear$overall[\"Accuracy\"]\n",
    "}"
   ]
  },
  {
   "cell_type": "code",
   "execution_count": 69,
   "metadata": {
    "collapsed": false
   },
   "outputs": [
    {
     "data": {
      "text/html": [
       "<ol class=list-inline>\n",
       "\t<li>0</li>\n",
       "\t<li>0.0909090909090909</li>\n",
       "\t<li>0.0909090909090909</li>\n",
       "\t<li>0.0909090909090909</li>\n",
       "\t<li>0.0909090909090909</li>\n",
       "\t<li>0.0909090909090909</li>\n",
       "\t<li>0</li>\n",
       "\t<li>0.454545454545455</li>\n",
       "\t<li>0.3</li>\n",
       "\t<li>0.2</li>\n",
       "</ol>\n"
      ],
      "text/latex": [
       "\\begin{enumerate*}\n",
       "\\item 0\n",
       "\\item 0.0909090909090909\n",
       "\\item 0.0909090909090909\n",
       "\\item 0.0909090909090909\n",
       "\\item 0.0909090909090909\n",
       "\\item 0.0909090909090909\n",
       "\\item 0\n",
       "\\item 0.454545454545455\n",
       "\\item 0.3\n",
       "\\item 0.2\n",
       "\\end{enumerate*}\n"
      ],
      "text/markdown": [
       "1. 0\n",
       "2. 0.0909090909090909\n",
       "3. 0.0909090909090909\n",
       "4. 0.0909090909090909\n",
       "5. 0.0909090909090909\n",
       "6. 0.0909090909090909\n",
       "7. 0\n",
       "8. 0.454545454545455\n",
       "9. 0.3\n",
       "10. 0.2\n",
       "\n",
       "\n"
      ],
      "text/plain": [
       " [1] 0.00000000 0.09090909 0.09090909 0.09090909 0.09090909 0.09090909\n",
       " [7] 0.00000000 0.45454545 0.30000000 0.20000000"
      ]
     },
     "metadata": {},
     "output_type": "display_data"
    },
    {
     "data": {
      "text/html": [
       "0.140909090909091"
      ],
      "text/latex": [
       "0.140909090909091"
      ],
      "text/markdown": [
       "0.140909090909091"
      ],
      "text/plain": [
       "[1] 0.1409091"
      ]
     },
     "metadata": {},
     "output_type": "display_data"
    },
    {
     "data": {
      "text/html": [
       "<ol class=list-inline>\n",
       "\t<li>sadness</li>\n",
       "\t<li>joy</li>\n",
       "\t<li>disgust</li>\n",
       "\t<li>fear</li>\n",
       "\t<li>disgust</li>\n",
       "\t<li>joy</li>\n",
       "\t<li>disgust</li>\n",
       "\t<li>fear</li>\n",
       "\t<li>anger</li>\n",
       "\t<li>fear</li>\n",
       "</ol>\n"
      ],
      "text/latex": [
       "\\begin{enumerate*}\n",
       "\\item sadness\n",
       "\\item joy\n",
       "\\item disgust\n",
       "\\item fear\n",
       "\\item disgust\n",
       "\\item joy\n",
       "\\item disgust\n",
       "\\item fear\n",
       "\\item anger\n",
       "\\item fear\n",
       "\\end{enumerate*}\n"
      ],
      "text/markdown": [
       "1. sadness\n",
       "2. joy\n",
       "3. disgust\n",
       "4. fear\n",
       "5. disgust\n",
       "6. joy\n",
       "7. disgust\n",
       "8. fear\n",
       "9. anger\n",
       "10. fear\n",
       "\n",
       "\n"
      ],
      "text/plain": [
       " [1] sadness joy     disgust fear    disgust joy     disgust fear    anger  \n",
       "[10] fear   \n",
       "Levels: anger disgust fear joy sadness surprise"
      ]
     },
     "metadata": {},
     "output_type": "display_data"
    },
    {
     "data": {
      "text/html": [
       "<ol class=list-inline>\n",
       "\t<li>joy</li>\n",
       "\t<li>fear</li>\n",
       "\t<li>fear</li>\n",
       "\t<li>fear</li>\n",
       "\t<li>fear</li>\n",
       "\t<li>disgust</li>\n",
       "\t<li>joy</li>\n",
       "\t<li>joy</li>\n",
       "\t<li>anger</li>\n",
       "\t<li>surprise</li>\n",
       "</ol>\n"
      ],
      "text/latex": [
       "\\begin{enumerate*}\n",
       "\\item joy\n",
       "\\item fear\n",
       "\\item fear\n",
       "\\item fear\n",
       "\\item fear\n",
       "\\item disgust\n",
       "\\item joy\n",
       "\\item joy\n",
       "\\item anger\n",
       "\\item surprise\n",
       "\\end{enumerate*}\n"
      ],
      "text/markdown": [
       "1. joy\n",
       "2. fear\n",
       "3. fear\n",
       "4. fear\n",
       "5. fear\n",
       "6. disgust\n",
       "7. joy\n",
       "8. joy\n",
       "9. anger\n",
       "10. surprise\n",
       "\n",
       "\n"
      ],
      "text/plain": [
       " [1] joy      fear     fear     fear     fear     disgust  joy      joy     \n",
       " [9] anger    surprise\n",
       "Levels: anger disgust fear joy sadness surprise"
      ]
     },
     "metadata": {},
     "output_type": "display_data"
    }
   ],
   "source": [
    "CVerror= sum(CV)/length(CV)\n",
    "CV\n",
    "CVerror # 0.74\n",
    "predictions_svmLinear\n",
    "test_xy$y"
   ]
  },
  {
   "cell_type": "code",
   "execution_count": null,
   "metadata": {
    "collapsed": true
   },
   "outputs": [],
   "source": []
  }
 ],
 "metadata": {
  "kernelspec": {
   "display_name": "R",
   "language": "R",
   "name": "ir"
  },
  "language_info": {
   "codemirror_mode": "r",
   "file_extension": ".r",
   "mimetype": "text/x-r-source",
   "name": "R",
   "pygments_lexer": "r",
   "version": "3.4.2"
  }
 },
 "nbformat": 4,
 "nbformat_minor": 2
}
