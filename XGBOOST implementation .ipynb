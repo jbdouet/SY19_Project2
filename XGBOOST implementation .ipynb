{
 "cells": [
  {
   "cell_type": "code",
   "execution_count": 10,
   "metadata": {
    "collapsed": false
   },
   "outputs": [
    {
     "name": "stderr",
     "output_type": "stream",
     "text": [
      "Warning message:\n",
      "“package ‘car’ was built under R version 3.4.3”"
     ]
    }
   ],
   "source": [
    "library(xgboost)\n",
    "library(readr)\n",
    "library(stringr)\n",
    "library(caret)\n",
    "library(car)"
   ]
  },
  {
   "cell_type": "code",
   "execution_count": 11,
   "metadata": {
    "collapsed": false
   },
   "outputs": [
    {
     "data": {
      "text/plain": [
       "y_expressions\n",
       "   anger  disgust     fear      joy  sadness surprise \n",
       "      17       15       16       21       23       16 "
      ]
     },
     "metadata": {},
     "output_type": "display_data"
    }
   ],
   "source": [
    "#### Obtention des données \n",
    "data_expressions <- read.csv(\"data/expressions_train.txt\",sep = \" \")\n",
    "\n",
    "X_expressions <- data_expressions[,1:4200]\n",
    "y_expressions <-data_expressions$y\n",
    "\n",
    "table(y_expressions)"
   ]
  },
  {
   "cell_type": "code",
   "execution_count": 12,
   "metadata": {
    "collapsed": true
   },
   "outputs": [],
   "source": [
    "I<-matrix(as.matrix(X_expressions[14,]),60,70)\n",
    "I1 <- apply(I, 1, rev)\n",
    "## Uncomment to plot image \n",
    "#image(t(I1),col=gray(0:255 / 255))\n",
    "#image(matrix(unlist(I1),ncol=70, byrow =TRUE ),col=gray(0:255 / 255))"
   ]
  },
  {
   "cell_type": "code",
   "execution_count": 13,
   "metadata": {
    "collapsed": false
   },
   "outputs": [
    {
     "data": {
      "text/html": [
       "<ol class=list-inline>\n",
       "\t<li>108</li>\n",
       "\t<li>4200</li>\n",
       "</ol>\n"
      ],
      "text/latex": [
       "\\begin{enumerate*}\n",
       "\\item 108\n",
       "\\item 4200\n",
       "\\end{enumerate*}\n"
      ],
      "text/markdown": [
       "1. 108\n",
       "2. 4200\n",
       "\n",
       "\n"
      ],
      "text/plain": [
       "[1]  108 4200"
      ]
     },
     "metadata": {},
     "output_type": "display_data"
    },
    {
     "data": {
      "text/html": [
       "<ol class=list-inline>\n",
       "\t<li>108</li>\n",
       "\t<li>4200</li>\n",
       "</ol>\n"
      ],
      "text/latex": [
       "\\begin{enumerate*}\n",
       "\\item 108\n",
       "\\item 4200\n",
       "\\end{enumerate*}\n"
      ],
      "text/markdown": [
       "1. 108\n",
       "2. 4200\n",
       "\n",
       "\n"
      ],
      "text/plain": [
       "[1]  108 4200"
      ]
     },
     "metadata": {},
     "output_type": "display_data"
    },
    {
     "data": {
      "text/html": [
       "<ol class=list-inline>\n",
       "\t<li>108</li>\n",
       "\t<li>4200</li>\n",
       "</ol>\n"
      ],
      "text/latex": [
       "\\begin{enumerate*}\n",
       "\\item 108\n",
       "\\item 4200\n",
       "\\end{enumerate*}\n"
      ],
      "text/markdown": [
       "1. 108\n",
       "2. 4200\n",
       "\n",
       "\n"
      ],
      "text/plain": [
       "[1]  108 4200"
      ]
     },
     "metadata": {},
     "output_type": "display_data"
    }
   ],
   "source": [
    "dim(X_expressions)\n",
    "dim(X_expressions[complete.cases(X_expressions), ])\n",
    "dim(na.omit(X_expressions))\n",
    "tst <-na.omit(unname(X_expressions))"
   ]
  },
  {
   "cell_type": "code",
   "execution_count": 14,
   "metadata": {
    "collapsed": true
   },
   "outputs": [],
   "source": [
    "#### Separation train-test\n",
    "\n",
    "n=nrow(data_expressions)\n",
    "ntrain=ceiling(n*2/3)\n",
    "ntst=n-ntrain\n",
    "train<-sample(1:n,ntrain)\n",
    "\n",
    "data_expressions.test<-data_expressions[-train,]\n",
    "data_expressions.train<-data_expressions[train,]"
   ]
  },
  {
   "cell_type": "code",
   "execution_count": 15,
   "metadata": {
    "collapsed": false
   },
   "outputs": [
    {
     "ename": "ERROR",
     "evalue": "Error in sparse.model.matrix(response ~ . - 1, data = campaign): could not find function \"sparse.model.matrix\"\n",
     "output_type": "error",
     "traceback": [
      "Error in sparse.model.matrix(response ~ . - 1, data = campaign): could not find function \"sparse.model.matrix\"\nTraceback:\n"
     ]
    }
   ],
   "source": [
    "# Except the y vector, all the feature are numerical so we do not need any transformation there\n",
    "#sparse_matrix <- sparse.model.matrix(response ~ .-1, data = campaign)\n",
    "df_X<- X_expressions\n",
    "sparse_matrix <- sparse.model.matrix(response ~ .-1, data = campaign)\n",
    "output_vector = df[,response] == \"Responder\""
   ]
  },
  {
   "cell_type": "code",
   "execution_count": null,
   "metadata": {
    "collapsed": true
   },
   "outputs": [],
   "source": []
  }
 ],
 "metadata": {
  "kernelspec": {
   "display_name": "R",
   "language": "R",
   "name": "ir"
  },
  "language_info": {
   "codemirror_mode": "r",
   "file_extension": ".r",
   "mimetype": "text/x-r-source",
   "name": "R",
   "pygments_lexer": "r",
   "version": "3.4.2"
  }
 },
 "nbformat": 4,
 "nbformat_minor": 2
}
